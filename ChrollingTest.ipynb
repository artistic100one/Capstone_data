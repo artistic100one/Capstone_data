{
 "cells": [
  {
   "cell_type": "code",
   "execution_count": 1,
   "id": "73a56cec",
   "metadata": {},
   "outputs": [],
   "source": [
    "from tqdm import tqdm\n",
    "from selenium import webdriver\n",
    "from selenium.webdriver.chrome.options import Options\n",
    "from selenium.webdriver.common.by import By\n",
    "from selenium.webdriver.support.ui import WebDriverWait\n",
    "from selenium.webdriver.support import expected_conditions as EC\n",
    "from bs4 import BeautifulSoup\n",
    "import requests"
   ]
  },
  {
   "cell_type": "code",
   "execution_count": 2,
   "id": "b66f290c",
   "metadata": {},
   "outputs": [],
   "source": [
    "def ex_tag_selenium(sid, page):\n",
    "    driver = None\n",
    "    try:\n",
    "        chrome_options = Options()\n",
    "        chrome_options.add_argument(\"--headless\")\n",
    "        driver = webdriver.Chrome(options=chrome_options)\n",
    "\n",
    "        url = f\"https://news.naver.com/main/main.naver?mode=LSD&mid=shm&sid1={sid}#&data=%2000:00:00&page={page}\"\n",
    "        driver.get(url)\n",
    "\n",
    "        wait = WebDriverWait(driver, 20)\n",
    "        a_tags = wait.until(EC.presence_of_all_elements_located((By.CSS_SELECTOR, '#section_body a')))\n",
    "\n",
    "        tag_set = set()\n",
    "        for a in a_tags:\n",
    "            href = a.get_attribute('href')\n",
    "            if href and f\"sid={sid}\" in href and \"article\" in href:\n",
    "                tag_set.add(href)\n",
    "\n",
    "        tag_lst = list(tag_set)\n",
    "        return tag_lst\n",
    "\n",
    "    finally:\n",
    "        if driver is not None:\n",
    "            driver.quit()"
   ]
  },
  {
   "cell_type": "code",
   "execution_count": 3,
   "id": "3bce2a80",
   "metadata": {},
   "outputs": [],
   "source": [
    "def re_tag(sid, marker_url=None):\n",
    "    re_lst = []\n",
    "    marking = False\n",
    "    \n",
    "    for i in tqdm(range(100)):\n",
    "        lst = ex_tag_selenium(sid, i + 1)\n",
    "        re_lst.extend(lst)\n",
    "        \n",
    "        if marker_url and marker_url[sid - 100] in lst:\n",
    "            print(f\"Marker URL '{marker_url[sid - 100]}'가 중복되었습니다. 작업을 종료합니다.\")\n",
    "            marking = True\n",
    "            break\n",
    "\n",
    "    return re_lst, marking"
   ]
  },
  {
   "cell_type": "code",
   "execution_count": 4,
   "id": "aaffd2b3",
   "metadata": {},
   "outputs": [],
   "source": [
    "def art_crawl(all_hrefs, sid, index, existing_data):\n",
    "    art_dic = existing_data if existing_data else {}\n",
    "\n",
    "    title_selector = \"#title_area > span\"\n",
    "    date_selector = \"#ct > div.media_end_head.go_trans > div.media_end_head_info.nv_notrans\" \\\n",
    "                    \"> div.media_end_head_info_datestamp > div:nth-child(1) > span\"\n",
    "    main_selector = \"#dic_area\"\n",
    "\n",
    "    url = all_hrefs[sid][index]\n",
    "    html = requests.get(url, headers={\"User-Agent\": \"Mozilla/5.0 \"\n",
    "                                                    \"(Windows NT 10.0; Win64; x64) AppleWebKit/537.36 (KHTML, like Gecko)\"\n",
    "                                                    \"Chrome/110.0.0.0 Safari/537.36\"})\n",
    "    soup = BeautifulSoup(html.text, \"lxml\")\n",
    "\n",
    "    title = soup.select(title_selector)\n",
    "    title_lst = [t.text for t in title]\n",
    "    title_str = \"\".join(title_lst)\n",
    "\n",
    "    date = soup.select(date_selector)\n",
    "    date_lst = [d.text for d in date]\n",
    "    date_str = \"\".join(date_lst)\n",
    "\n",
    "    main = soup.select(main_selector)\n",
    "    main_lst = []\n",
    "    for m in main:\n",
    "        m_text = m.text\n",
    "        m_text = m_text.strip()\n",
    "        main_lst.append(m_text)\n",
    "    main_str = \"\".join(main_lst)\n",
    "\n",
    "    art_dic[\"title\"] = title_str\n",
    "    art_dic[\"date\"] = date_str\n",
    "    art_dic[\"main\"] = main_str\n",
    "\n",
    "    return art_dic"
   ]
  },
  {
   "cell_type": "code",
   "execution_count": 5,
   "id": "385c4788",
   "metadata": {},
   "outputs": [],
   "source": [
    "def crawl_news(marker_url=None):\n",
    "    all_hrefs = {}\n",
    "    sids = [i for i in range(100, 106)]\n",
    "    artdic_lst = []\n",
    "\n",
    "    for section in tqdm(sids):\n",
    "        re_lst, marking = re_tag(section, marker_url=marker_url)\n",
    "        all_hrefs[section] = re_lst\n",
    "\n",
    "        for i in tqdm(range(len(re_lst))):\n",
    "            existing_data = artdic_lst[-1] if artdic_lst else None\n",
    "            art_dic = art_crawl(all_hrefs, section, i, existing_data)\n",
    "            art_dic[\"section\"] = section\n",
    "            art_dic[\"url\"] = re_lst[i]\n",
    "            artdic_lst.append(art_dic)\n",
    "\n",
    "            if marking and marker_url[section - 100] == art_dic[\"url\"]:\n",
    "                print(f\"Marker URL '{marker_url[section - 100]}'가 중복되었습니다. 작업을 종료합니다.\")\n",
    "                break\n",
    "\n",
    "    return artdic_lst"
   ]
  },
  {
   "cell_type": "code",
   "execution_count": 6,
   "id": "127d3033",
   "metadata": {},
   "outputs": [
    {
     "ename": "NameError",
     "evalue": "name 'all_hrefs' is not defined",
     "output_type": "error",
     "traceback": [
      "\u001b[1;31m---------------------------------------------------------------------------\u001b[0m",
      "\u001b[1;31mNameError\u001b[0m                                 Traceback (most recent call last)",
      "\u001b[1;32m~\\AppData\\Local\\Temp/ipykernel_58104/2030329490.py\u001b[0m in \u001b[0;36m<module>\u001b[1;34m\u001b[0m\n\u001b[1;32m----> 1\u001b[1;33m \u001b[0mmarker_urls_to_check\u001b[0m \u001b[1;33m=\u001b[0m \u001b[1;33m[\u001b[0m\u001b[0mall_hrefs\u001b[0m\u001b[1;33m[\u001b[0m\u001b[0mi\u001b[0m\u001b[1;33m]\u001b[0m\u001b[1;33m[\u001b[0m\u001b[1;36m0\u001b[0m\u001b[1;33m]\u001b[0m \u001b[1;32mfor\u001b[0m \u001b[0mi\u001b[0m \u001b[1;32min\u001b[0m \u001b[0mrange\u001b[0m\u001b[1;33m(\u001b[0m\u001b[1;36m100\u001b[0m\u001b[1;33m,\u001b[0m \u001b[1;36m106\u001b[0m\u001b[1;33m)\u001b[0m\u001b[1;33m]\u001b[0m\u001b[1;33m\u001b[0m\u001b[1;33m\u001b[0m\u001b[0m\n\u001b[0m\u001b[0;32m      2\u001b[0m \u001b[0mresult_data\u001b[0m \u001b[1;33m=\u001b[0m \u001b[0mcrawl_news\u001b[0m\u001b[1;33m(\u001b[0m\u001b[0mmarker_url\u001b[0m\u001b[1;33m=\u001b[0m\u001b[0mmarker_urls_to_check\u001b[0m\u001b[1;33m)\u001b[0m\u001b[1;33m\u001b[0m\u001b[1;33m\u001b[0m\u001b[0m\n",
      "\u001b[1;32m~\\AppData\\Local\\Temp/ipykernel_58104/2030329490.py\u001b[0m in \u001b[0;36m<listcomp>\u001b[1;34m(.0)\u001b[0m\n\u001b[1;32m----> 1\u001b[1;33m \u001b[0mmarker_urls_to_check\u001b[0m \u001b[1;33m=\u001b[0m \u001b[1;33m[\u001b[0m\u001b[0mall_hrefs\u001b[0m\u001b[1;33m[\u001b[0m\u001b[0mi\u001b[0m\u001b[1;33m]\u001b[0m\u001b[1;33m[\u001b[0m\u001b[1;36m0\u001b[0m\u001b[1;33m]\u001b[0m \u001b[1;32mfor\u001b[0m \u001b[0mi\u001b[0m \u001b[1;32min\u001b[0m \u001b[0mrange\u001b[0m\u001b[1;33m(\u001b[0m\u001b[1;36m100\u001b[0m\u001b[1;33m,\u001b[0m \u001b[1;36m106\u001b[0m\u001b[1;33m)\u001b[0m\u001b[1;33m]\u001b[0m\u001b[1;33m\u001b[0m\u001b[1;33m\u001b[0m\u001b[0m\n\u001b[0m\u001b[0;32m      2\u001b[0m \u001b[0mresult_data\u001b[0m \u001b[1;33m=\u001b[0m \u001b[0mcrawl_news\u001b[0m\u001b[1;33m(\u001b[0m\u001b[0mmarker_url\u001b[0m\u001b[1;33m=\u001b[0m\u001b[0mmarker_urls_to_check\u001b[0m\u001b[1;33m)\u001b[0m\u001b[1;33m\u001b[0m\u001b[1;33m\u001b[0m\u001b[0m\n",
      "\u001b[1;31mNameError\u001b[0m: name 'all_hrefs' is not defined"
     ]
    }
   ],
   "source": [
    "all_hrefs = {}\n",
    "sids = [i for i in range(100, 106)]\n",
    "\n",
    "for sid in sids:\n",
    "    sid_data = re_tag(sid)\n",
    "    "
   ]
  },
  {
   "cell_type": "code",
   "execution_count": null,
   "id": "5667904d",
   "metadata": {},
   "outputs": [],
   "source": [
    "marker_urls_to_check = [all_hrefs[i][0] for i in range(100, 106)]\n",
    "result_data = crawl_news(marker_url=marker_urls_to_check)"
   ]
  }
 ],
 "metadata": {
  "kernelspec": {
   "display_name": "Python 3 (ipykernel)",
   "language": "python",
   "name": "python3"
  },
  "language_info": {
   "codemirror_mode": {
    "name": "ipython",
    "version": 3
   },
   "file_extension": ".py",
   "mimetype": "text/x-python",
   "name": "python",
   "nbconvert_exporter": "python",
   "pygments_lexer": "ipython3",
   "version": "3.9.7"
  }
 },
 "nbformat": 4,
 "nbformat_minor": 5
}
