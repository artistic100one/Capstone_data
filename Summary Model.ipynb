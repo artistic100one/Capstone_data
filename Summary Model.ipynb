{
 "cells": [
  {
   "cell_type": "code",
   "execution_count": 2,
   "id": "3a7fbc53",
   "metadata": {},
   "outputs": [],
   "source": [
    "from newspaper import Article\n",
    "from konlpy.tag import Kkma\n",
    "from konlpy.tag import Twitter\n",
    "from nltk.tokenize import word_tokenize\n",
    "from sklearn.feature_extraction.text import TfidfVectorizer\n",
    "from sklearn.feature_extraction.text import CountVectorizer\n",
    "from sklearn.preprocessing import normalize\n",
    "import numpy as np\n",
    "import pandas as pd"
   ]
  },
  {
   "cell_type": "code",
   "execution_count": 8,
   "id": "606b1dd6",
   "metadata": {},
   "outputs": [],
   "source": [
    "class SentenceTokenizer(object):\n",
    "    def __init__(self):\n",
    "        self.kkma = Kkma()\n",
    "        self.twitter = Twitter()\n",
    "        f = open(\"preprocessing.txt\",encoding='UTF-8')\n",
    "        preprocessing_Text = f.read()\n",
    "        stop_words = word_tokenize(preprocessing_Text)\n",
    "        self.stopwords = ['중인' ,'만큼', '마찬가지', '꼬집었', \"연합뉴스\", \"데일리\", \"동아일보\", \"중앙일보\", \"조선일보\", \"기자\"\n",
    ",\"아\", \"휴\", \"아이구\", \"아이쿠\", \"아이고\", \"어\", \"나\", \"우리\", \"저희\", \"따라\", \"의해\", \"을\", \"를\", \"에\", \"의\", \"가\",]\n",
    "    def url2sentences(self, url):\n",
    "        article = Article(url, language='ko')\n",
    "        article.download()\n",
    "        article.parse()\n",
    "        sentences = self.kkma.sentences(article.text)\n",
    "        \n",
    "        for idx in range(0, len(sentences)):\n",
    "            if len(sentences[idx]) <= 10:\n",
    "                sentences[idx-1] += (' ' + sentences[idx])\n",
    "                sentences[idx] = ''\n",
    "        return sentences\n",
    "    \n",
    "    def text2sentences(self, text):\n",
    "        sentences = self.kkma.sentences(text)\n",
    "        for idx in range(0, len(sentences)):\n",
    "            if len(sentences[idx]) <= 10:\n",
    "                sentences[idx-1] += (' ' + sentences[idx])\n",
    "                sentences[idx] = ''\n",
    "        return sentences\n",
    "    \n",
    "    def get_nouns(self, sentences):\n",
    "        nouns = []\n",
    "        for sentence in sentences:\n",
    "            if sentence is not '':\n",
    "                nouns.append(' '.join([noun for noun in self.twitter.nouns(str(sentence))\n",
    "                    if noun not in self.stopwords and len(noun) > 1]))\n",
    "        return nouns\n",
    "    def preprocess_sentence(sentence, remove_stopwords = True):\n",
    "        sentence = sentence.upper() # 텍스트 대문자화\n",
    "        sentence = BeautifulSoup(sentence, \"lxml\").text # <br />, <a href = ...> 등의 html 태그 제거\n",
    "        sentence = re.sub(r'\\([^)]*\\)', '', sentence) # 괄호로 닫힌 문자열  제거 Ex) my husband (and myself) for => my husband for\n",
    "        sentence = re.sub('\"','', sentence) # 쌍따옴표 \" 제거\n",
    "        sentence = re.sub('[ㅋ]{2,}', 'ㅋㅋ', sentence) # ㅋ이 3개 이상이면 2개로 변경. Ex) ㅋㅋㅋㅋㅋㅋ -> ㅋㅋ\n",
    "\n",
    "        # 불용어 제거 (Text)\n",
    "        if remove_stopwords:\n",
    "            tokens = ' '.join(word for word in sentence.split() if not word in stop_words if len(word) > 1)\n",
    "        # 불용어 미제거 (Summary)\n",
    "        else:\n",
    "            tokens = ' '.join(word for word in sentence.split() if len(word) > 1)\n",
    "        return tokens"
   ]
  },
  {
   "cell_type": "code",
   "execution_count": 9,
   "id": "24b207c1",
   "metadata": {},
   "outputs": [],
   "source": [
    "class GraphMatrix(object):\n",
    "    def __init__(self):\n",
    "        self.tfidf = TfidfVectorizer()\n",
    "        self.cnt_vec = CountVectorizer()\n",
    "        self.graph_sentence = []\n",
    "    def build_sent_graph(self, sentence):\n",
    "        tfidf_mat = self.tfidf.fit_transform(sentence).toarray()\n",
    "        self.graph_sentence = np.dot(tfidf_mat, tfidf_mat.T)\n",
    "        return self.graph_sentence\n",
    "    def build_words_graph(self, sentence):\n",
    "        cnt_vec_mat = normalize(self.cnt_vec.fit_transform(sentence).toarray().astype(float), axis=0)\n",
    "        vocab = self.cnt_vec.vocabulary_\n",
    "        return np.dot(cnt_vec_mat.T, cnt_vec_mat), {vocab[word] : word for word in vocab}"
   ]
  },
  {
   "cell_type": "code",
   "execution_count": 10,
   "id": "15fedce9",
   "metadata": {},
   "outputs": [],
   "source": [
    "class Rank(object):\n",
    "    def get_ranks(self, graph, d=0.85): # d = damping factor\n",
    "        A = graph\n",
    "        matrix_size = A.shape[0]\n",
    "        for id in range(matrix_size):\n",
    "            A[id, id] = 0 # diagonal 부분을 0으로\n",
    "            link_sum = np.sum(A[:,id]) # A[:, id] = A[:][id]\n",
    "            if link_sum != 0:\n",
    "                A[:, id] /= link_sum\n",
    "            A[:, id] *= -d\n",
    "            A[id, id] = 1\n",
    "            \n",
    "        B = (1-d) * np.ones((matrix_size, 1))\n",
    "        ranks = np.linalg.solve(A, B) # 연립방정식 Ax = b\n",
    "        return {idx: r[0] for idx, r in enumerate(ranks)}"
   ]
  },
  {
   "cell_type": "code",
   "execution_count": 11,
   "id": "44ec3353",
   "metadata": {},
   "outputs": [],
   "source": [
    "class TextRank(object):\n",
    "    def __init__(self, text):\n",
    "        self.sent_tokenize = SentenceTokenizer()\n",
    "        \n",
    "        if text[:5] in ('http:', 'https'):\n",
    "            self.sentences = self.sent_tokenize.url2sentences(text)\n",
    "        else:\n",
    "            self.sentences = self.sent_tokenize.text2sentences(text)\n",
    "        \n",
    "        \n",
    "        self.nouns = self.sent_tokenize.get_nouns(self.sentences)\n",
    "        \n",
    "        self.graph_matrix = GraphMatrix()\n",
    "        self.sent_graph = self.graph_matrix.build_sent_graph(self.nouns)\n",
    "        self.words_graph, self.idx2word = self.graph_matrix.build_words_graph(self.nouns)\n",
    "        self.rank = Rank()\n",
    "        self.sent_rank_idx = self.rank.get_ranks(self.sent_graph)\n",
    "        self.sorted_sent_rank_idx = sorted(self.sent_rank_idx, key=lambda k: self.sent_rank_idx[k], reverse=True)\n",
    "        self.word_rank_idx = self.rank.get_ranks(self.words_graph)\n",
    "        self.sorted_word_rank_idx = sorted(self.word_rank_idx, key=lambda k: self.word_rank_idx[k], reverse=True)\n",
    "    def summarize(self, sent_num=3):\n",
    "        summary = []\n",
    "        index=[]\n",
    "        for idx in self.sorted_sent_rank_idx[:sent_num]:\n",
    "            index.append(idx)\n",
    "        index.sort()\n",
    "        for idx in index:\n",
    "            summary.append(self.sentences[idx])\n",
    "        return summary\n",
    "    def keywords(self, word_num=10):\n",
    "        rank = Rank()\n",
    "        rank_idx = rank.get_ranks(self.words_graph)\n",
    "        sorted_rank_idx = sorted(rank_idx, key=lambda k: rank_idx[k], reverse=True)\n",
    "        keywords = []\n",
    "        index=[]\n",
    "        for idx in sorted_rank_idx[:word_num]:\n",
    "            index.append(idx)\n",
    "        index.sort()\n",
    "        for idx in index:\n",
    "            keywords.append(self.idx2word[idx])\n",
    "        \n",
    "        return keywords"
   ]
  },
  {
   "cell_type": "code",
   "execution_count": 12,
   "id": "8261c6dd",
   "metadata": {
    "scrolled": true
   },
   "outputs": [
    {
     "name": "stdout",
     "output_type": "stream",
     "text": [
      "국민의 힘의 새 지도부를 선출하는 전당대회가 11일 서울 여의도 중앙 당사에서 열린 가운데 이 준석, 나 경원 당대표 후보가 결과 발표를 지켜보고 있다.\n",
      "\n",
      "오종 택 기자 국민의 힘의 새 지도부를 선출하는 전당대회가 11일 서울 여의도 중앙 당사에서 열린 가운데 이 준석, 나 경원 당대표 후보가 결과 발표를 지켜보고 있다.\n",
      "\n",
      "오종 택 기자 국민의 힘 대표 후보자 나 경원, 이 준석, 조경 태, 주호 영, 홍문 표 국민의 힘 대표 후보자들이 11일 오전 서울 영등포구 국민의 힘 당사에서 열린 전당대회에서 박수치고 있다.\n",
      "\n",
      "오종 택 기자 국민의 힘 대표 후보자 나 경원, 이 준석, 조경 태, 주호 영, 홍문 표 국민의 힘 대표 후보자들이 11일 오전 서울 영등포구 국민의 힘 당사에서 열린 전당대회에서 박수치고 있다.\n",
      "\n",
      "이날 이 준석 후보가 대표로 선출됐다.\n",
      "\n",
      "국민의 힘 나 경원 전 의원은 이날 발표된 대표 선거 결과 당원투표와 국민 여론조사를 합쳐 37.1% 득표율로 이 대표 (43.8% )에게 6.7% 포인트 차이로 밀려 2위를 기록했다.\n",
      "\n",
      "['국민의 힘의 새 지도부를 선출하는 전당대회가 11일 서울 여의도 중앙 당사에서 열린 가운데 이 준석, 나 경원 당대표 후보가 결과 발표를 지켜보고 있다.', '오종 택 기자 국민의 힘의 새 지도부를 선출하는 전당대회가 11일 서울 여의도 중앙 당사에서 열린 가운데 이 준석, 나 경원 당대표 후보가 결과 발표를 지켜보고 있다.', '오종 택 기자 국민의 힘 대표 후보자 나 경원, 이 준석, 조경 태, 주호 영, 홍문 표 국민의 힘 대표 후보자들이 11일 오전 서울 영등포구 국민의 힘 당사에서 열린 전당대회에서 박수치고 있다.', '오종 택 기자 국민의 힘 대표 후보자 나 경원, 이 준석, 조경 태, 주호 영, 홍문 표 국민의 힘 대표 후보자들이 11일 오전 서울 영등포구 국민의 힘 당사에서 열린 전당대회에서 박수치고 있다.', '이날 이 준석 후보가 대표로 선출됐다.', '국민의 힘 나 경원 전 의원은 이날 발표된 대표 선거 결과 당원투표와 국민 여론조사를 합쳐 37.1% 득표율로 이 대표 (43.8% )에게 6.7% 포인트 차이로 밀려 2위를 기록했다.']\n",
      "국민의 힘의 새 지도부를 선출하는 전당대회가 11일 서울 여의도 중앙 당사에서 열린 가운데 이 준석, 나 경원 당대표 후보가 결과 발표를 지켜보고 있다.오종 택 기자 국민의 힘의 새 지도부를 선출하는 전당대회가 11일 서울 여의도 중앙 당사에서 열린 가운데 이 준석, 나 경원 당대표 후보가 결과 발표를 지켜보고 있다.오종 택 기자 국민의 힘 대표 후보자 나 경원, 이 준석, 조경 태, 주호 영, 홍문 표 국민의 힘 대표 후보자들이 11일 오전 서울 영등포구 국민의 힘 당사에서 열린 전당대회에서 박수치고 있다.오종 택 기자 국민의 힘 대표 후보자 나 경원, 이 준석, 조경 태, 주호 영, 홍문 표 국민의 힘 대표 후보자들이 11일 오전 서울 영등포구 국민의 힘 당사에서 열린 전당대회에서 박수치고 있다.이날 이 준석 후보가 대표로 선출됐다.국민의 힘 나 경원 전 의원은 이날 발표된 대표 선거 결과 당원투표와 국민 여론조사를 합쳐 37.1% 득표율로 이 대표 (43.8% )에게 6.7% 포인트 차이로 밀려 2위를 기록했다.\n",
      "keywords : ['경원', '국민', '당사', '대표', '서울', '선거', '원내', '의원', '이번', '전당대회']\n"
     ]
    }
   ],
   "source": [
    "url = 'https://news.naver.com/main/read.nhn?mode=LSD&mid=shm&sid1=100&oid=025&aid=0003109159'\n",
    "textrank = TextRank(url)\n",
    "a = textrank.summarize(6)\n",
    "for row in a:\n",
    "    print(row)\n",
    "    print()\n",
    "print(a)\n",
    "print(\"\".join(a))\n",
    "print('keywords :',textrank.keywords())"
   ]
  },
  {
   "cell_type": "code",
   "execution_count": 13,
   "id": "efb9bf05",
   "metadata": {},
   "outputs": [
    {
     "name": "stdout",
     "output_type": "stream",
     "text": [
      "[[ 1.         -0.19785704 -0.08993434 -0.12026211 -0.08993434 -0.12026211\n",
      "  -0.08529334 -0.07103962 -0.0217275  -0.13229689 -0.09726874 -0.02604108\n",
      "  -0.         -0.06148607 -0.04340486 -0.0419783  -0.         -0.\n",
      "  -0.0175859  -0.05444659 -0.0266958  -0.04334719 -0.09041833 -0.\n",
      "  -0.425     ]\n",
      " [-0.19785704  1.         -0.08993434 -0.12026211 -0.08993434 -0.12026211\n",
      "  -0.08529334 -0.07103962 -0.0217275  -0.13229689 -0.09726874 -0.02604108\n",
      "  -0.         -0.06148607 -0.04340486 -0.0419783  -0.         -0.\n",
      "  -0.0175859  -0.05444659 -0.0266958  -0.04334719 -0.09041833 -0.\n",
      "  -0.425     ]\n",
      " [-0.06977122 -0.06977122  1.         -0.04225283 -0.25503556 -0.04225283\n",
      "  -0.02592351 -0.07215884 -0.03212308 -0.06860976 -0.04330831 -0.0385005\n",
      "  -0.         -0.06040577 -0.03208602 -0.04287431 -0.         -0.0453844\n",
      "  -0.02599992 -0.0804967  -0.08831187 -0.03204338 -0.         -0.\n",
      "  -0.        ]\n",
      " [-0.09077441 -0.09077441 -0.04110926  1.         -0.04110926 -0.2621301\n",
      "  -0.18591018 -0.02517314 -0.04735848 -0.         -0.06384868 -0.05676061\n",
      "  -0.         -0.04409179 -0.         -0.09149827 -0.         -0.\n",
      "  -0.03833123 -0.         -0.         -0.         -0.         -0.\n",
      "  -0.        ]\n",
      " [-0.06977122 -0.06977122 -0.25503556 -0.04225283  1.         -0.04225283\n",
      "  -0.02592351 -0.07215884 -0.03212308 -0.06860976 -0.04330831 -0.0385005\n",
      "  -0.         -0.06040577 -0.03208602 -0.04287431 -0.         -0.0453844\n",
      "  -0.02599992 -0.0804967  -0.08831187 -0.03204338 -0.         -0.\n",
      "  -0.        ]\n",
      " [-0.09077441 -0.09077441 -0.04110926 -0.2621301  -0.04110926  1.\n",
      "  -0.18591018 -0.02517314 -0.04735848 -0.         -0.06384868 -0.05676061\n",
      "  -0.         -0.04409179 -0.         -0.09149827 -0.         -0.\n",
      "  -0.03833123 -0.         -0.         -0.         -0.         -0.\n",
      "  -0.        ]\n",
      " [-0.03926767 -0.03926767 -0.01538378 -0.11339361 -0.01538378 -0.11339361\n",
      "   1.         -0.         -0.         -0.         -0.         -0.\n",
      "  -0.         -0.         -0.         -0.15849656 -0.         -0.\n",
      "  -0.10083796 -0.         -0.         -0.         -0.         -0.20382591\n",
      "  -0.        ]\n",
      " [-0.06158648 -0.06158648 -0.08063499 -0.02891263 -0.08063499 -0.02891263\n",
      "  -0.          1.         -0.20886861 -0.0997997  -0.11588377 -0.06954315\n",
      "  -0.05428335 -0.09179773 -0.10829819 -0.06337786 -0.07336554 -0.16822762\n",
      "  -0.04696346 -0.06247045 -0.11228011 -0.07095445 -0.11549077 -0.02983285\n",
      "  -0.        ]\n",
      " [-0.00868328 -0.00868328 -0.01654781 -0.02507479 -0.01654781 -0.02507479\n",
      "  -0.         -0.09628589  1.         -0.         -0.04652258 -0.04135794\n",
      "  -0.         -0.03212696 -0.         -0.02544361 -0.09479022 -0.26338854\n",
      "  -0.02792959 -0.         -0.06266397 -0.         -0.         -0.\n",
      "  -0.        ]\n",
      " [-0.07699923 -0.07699923 -0.0514721  -0.         -0.0514721  -0.\n",
      "  -0.         -0.06700099 -0.          1.         -0.18113705 -0.02408279\n",
      "  -0.05981631 -0.01870757 -0.16313044 -0.03750957 -0.02062406 -0.01804607\n",
      "  -0.01626344 -0.04137073 -0.02726833 -0.07818666 -0.12726244 -0.03287364\n",
      "  -0.        ]\n",
      " [-0.02662531 -0.02662531 -0.01528065 -0.02315468 -0.01528065 -0.02315468\n",
      "  -0.         -0.03658974 -0.03186478 -0.08519066  1.         -0.03819093\n",
      "  -0.         -0.02966682 -0.         -0.02349525 -0.         -0.\n",
      "  -0.02579087 -0.         -0.         -0.         -0.         -0.\n",
      "  -0.        ]\n",
      " [-0.00557425 -0.00557425 -0.01062289 -0.0160968  -0.01062289 -0.0160968\n",
      "  -0.         -0.01717105 -0.02215195 -0.00885722 -0.02986524  1.\n",
      "  -0.06044337 -0.03952764 -0.01988769 -0.01633357 -0.02084026 -0.01823525\n",
      "  -0.10264196 -0.01404932 -0.02755418 -0.02237049 -0.03641188 -0.03321826\n",
      "  -0.        ]\n",
      " [-0.         -0.         -0.         -0.         -0.         -0.\n",
      "  -0.         -0.00634801 -0.         -0.01041931 -0.         -0.0286271\n",
      "   1.         -0.02223761 -0.02339515 -0.         -0.02451572 -0.02145128\n",
      "  -0.01933228 -0.01652711 -0.03241374 -0.02631583 -0.04283361 -0.03907674\n",
      "  -0.        ]\n",
      " [-0.01332977 -0.01332977 -0.01688005 -0.01266395 -0.01688005 -0.01266395\n",
      "  -0.         -0.02295585 -0.01742776 -0.0069683  -0.02349609 -0.04003315\n",
      "  -0.04755304  1.         -0.01564638 -0.01285022 -0.01639581 -0.01434634\n",
      "  -0.08075224 -0.01105312 -0.0216779  -0.0175997  -0.02864658 -0.02613403\n",
      "  -0.        ]\n",
      " [-0.0098716  -0.0098716  -0.0094062  -0.         -0.0094062  -0.\n",
      "  -0.         -0.02841095 -0.         -0.06374521 -0.         -0.02113034\n",
      "  -0.05248308 -0.0164141   1.         -0.0658221  -0.01809563 -0.01583369\n",
      "  -0.01426961 -0.01219905 -0.02392534 -0.11777824 -0.0316165  -0.02884346\n",
      "  -0.        ]\n",
      " [-0.01103074 -0.01103074 -0.014522   -0.03185358 -0.014522   -0.03185358\n",
      "  -0.09046484 -0.01921024 -0.01672956 -0.01693501 -0.02255479 -0.0200509\n",
      "  -0.         -0.01557559 -0.07605057  1.         -0.         -0.\n",
      "  -0.01354065 -0.04408299 -0.         -0.04277241 -0.         -0.\n",
      "  -0.        ]\n",
      " [-0.         -0.         -0.         -0.         -0.         -0.\n",
      "  -0.         -0.01718226 -0.0481573  -0.00719466 -0.         -0.01976737\n",
      "  -0.04909776 -0.01535534 -0.01615464 -0.          1.         -0.05806249\n",
      "  -0.01334918 -0.15365573 -0.02238209 -0.01817141 -0.02957714 -0.13909001\n",
      "  -0.        ]\n",
      " [-0.         -0.         -0.02089979 -0.         -0.02089979 -0.\n",
      "  -0.         -0.06932639 -0.23545542 -0.01107725 -0.         -0.0304348\n",
      "  -0.07559331 -0.02364184 -0.02487247 -0.         -0.10216658  1.\n",
      "  -0.02055305 -0.01757074 -0.08477061 -0.02797759 -0.04553841 -0.04154431\n",
      "  -0.        ]\n",
      " [-0.00404818 -0.00404818 -0.00771466 -0.01168998 -0.00771466 -0.01168998\n",
      "  -0.05041962 -0.01247013 -0.0160874  -0.00643237 -0.02168903 -0.11038074\n",
      "  -0.04389577 -0.08574405 -0.01444303 -0.01186192 -0.01513482 -0.01324298\n",
      "   1.         -0.01020303 -0.02001067 -0.01624612 -0.02644339 -0.10693175\n",
      "  -0.        ]\n",
      " [-0.01403156 -0.01403156 -0.02674007 -0.         -0.02674007 -0.\n",
      "  -0.         -0.01857056 -0.         -0.01831857 -0.         -0.01691466\n",
      "  -0.04201227 -0.01313935 -0.0138233  -0.04323407 -0.19503434 -0.01267474\n",
      "  -0.01142271  1.         -0.03806993 -0.11086887 -0.02530875 -0.02308896\n",
      "  -0.        ]\n",
      " [-0.0086556  -0.0086556  -0.03690816 -0.         -0.03690816 -0.\n",
      "  -0.         -0.04199254 -0.05083909 -0.01519063 -0.         -0.04173635\n",
      "  -0.10366385 -0.03242091 -0.03410852 -0.         -0.03574224 -0.07693312\n",
      "  -0.02818513 -0.04789619  1.         -0.07626428 -0.06244847 -0.05697121\n",
      "  -0.        ]\n",
      " [-0.01035216 -0.01035216 -0.0098641  -0.         -0.0098641  -0.\n",
      "  -0.         -0.01954631 -0.         -0.03208233 -0.         -0.02495849\n",
      "  -0.06199137 -0.01938782 -0.12367609 -0.0388735  -0.02137399 -0.01870226\n",
      "  -0.01685482 -0.10274115 -0.05617422  1.         -0.03734442 -0.034069\n",
      "  -0.        ]\n",
      " [-0.02122242 -0.02122242 -0.         -0.         -0.         -0.\n",
      "  -0.         -0.03126807 -0.         -0.05132182 -0.         -0.03992588\n",
      "  -0.09916704 -0.03101453 -0.03262894 -0.         -0.03419179 -0.02991784\n",
      "  -0.0269625  -0.02305016 -0.04520705 -0.03670238  1.         -0.05449987\n",
      "  -0.        ]\n",
      " [-0.         -0.         -0.         -0.         -0.         -0.\n",
      "  -0.11486151 -0.00892782 -0.         -0.01465366 -0.         -0.04026102\n",
      "  -0.09999947 -0.03127487 -0.03290283 -0.         -0.17772899 -0.03016898\n",
      "  -0.12051644 -0.02324365 -0.04558653 -0.03701046 -0.060241    1.\n",
      "  -0.        ]\n",
      " [-0.01977346 -0.01977346 -0.         -0.         -0.         -0.\n",
      "  -0.         -0.         -0.         -0.         -0.         -0.\n",
      "  -0.         -0.         -0.         -0.         -0.         -0.\n",
      "  -0.         -0.         -0.         -0.         -0.         -0.\n",
      "   1.        ]]\n"
     ]
    }
   ],
   "source": [
    "print(textrank.sent_graph)"
   ]
  },
  {
   "cell_type": "code",
   "execution_count": 21,
   "id": "ac9343bd",
   "metadata": {},
   "outputs": [
    {
     "name": "stdout",
     "output_type": "stream",
     "text": [
      "131\n"
     ]
    }
   ],
   "source": [
    "print(len(textrank.words_graph))"
   ]
  },
  {
   "cell_type": "code",
   "execution_count": 15,
   "id": "27c1ae71",
   "metadata": {},
   "outputs": [
    {
     "name": "stdout",
     "output_type": "stream",
     "text": [
      "[0, 1, 7, 4, 2, 5, 3, 9, 6, 8, 17, 20, 23, 19, 21, 10, 15, 22, 18, 14, 16, 11, 13, 12, 24]\n"
     ]
    }
   ],
   "source": [
    "print(textrank.sorted_sent_rank_idx)"
   ]
  },
  {
   "cell_type": "code",
   "execution_count": 16,
   "id": "26fc3640",
   "metadata": {},
   "outputs": [
    {
     "name": "stdout",
     "output_type": "stream",
     "text": [
      "{0: 2.0536261880153375, 1: 2.053626188015337, 2: 1.600696318749654, 3: 1.5245599813792872, 4: 1.6006963187496541, 5: 1.5245599813792874, 6: 1.0251142756360851, 7: 1.8879055449104662, 8: 0.9528999697544305, 9: 1.3015418568958959, 10: 0.6617301375321218, 11: 0.600877767082211, 12: 0.37957019503523914, 13: 0.5922160098068282, 14: 0.6255728180877963, 15: 0.6575947429581052, 16: 0.6076783057332382, 17: 0.8997380610964386, 18: 0.6422341078485275, 19: 0.6989854674275725, 20: 0.8315885213738615, 21: 0.6640563821789149, 22: 0.6465607816099007, 23: 0.7351554839553937, 24: 0.231214594788418}\n"
     ]
    }
   ],
   "source": [
    "print(textrank.sent_rank_idx)"
   ]
  },
  {
   "cell_type": "code",
   "execution_count": 17,
   "id": "ca32c35b",
   "metadata": {},
   "outputs": [],
   "source": [
    "vect = CountVectorizer(max_features=10000, max_df=.15)\n",
    "X = vect.fit_transform(textrank.sentences)"
   ]
  },
  {
   "cell_type": "code",
   "execution_count": 18,
   "id": "18c85269",
   "metadata": {},
   "outputs": [
    {
     "ename": "SyntaxError",
     "evalue": "invalid syntax (<ipython-input-18-d54524fabaad>, line 3)",
     "output_type": "error",
     "traceback": [
      "\u001b[1;36m  File \u001b[1;32m\"<ipython-input-18-d54524fabaad>\"\u001b[1;36m, line \u001b[1;32m3\u001b[0m\n\u001b[1;33m    lear                                                                                          ning_method=\"batch\", max_iter=25, random_state=0)\u001b[0m\n\u001b[1;37m                                                                                                            ^\u001b[0m\n\u001b[1;31mSyntaxError\u001b[0m\u001b[1;31m:\u001b[0m invalid syntax\n"
     ]
    }
   ],
   "source": [
    "from sklearn.decomposition import LatentDirichletAllocation\n",
    "lda = LatentDirichletAllocation(n_components=10,\n",
    "                               lear                                                                                          ning_method=\"batch\", max_iter=25, random_state=0)\n",
    "document_topics = lda.fit_transform(X)"
   ]
  },
  {
   "cell_type": "code",
   "execution_count": null,
   "id": "cb6c845e",
   "metadata": {},
   "outputs": [],
   "source": []
  },
  {
   "cell_type": "code",
   "execution_count": null,
   "id": "8162965c",
   "metadata": {},
   "outputs": [],
   "source": []
  }
 ],
 "metadata": {
  "kernelspec": {
   "display_name": "Python 3",
   "language": "python",
   "name": "python3"
  },
  "language_info": {
   "codemirror_mode": {
    "name": "ipython",
    "version": 3
   },
   "file_extension": ".py",
   "mimetype": "text/x-python",
   "name": "python",
   "nbconvert_exporter": "python",
   "pygments_lexer": "ipython3",
   "version": "3.7.6"
  }
 },
 "nbformat": 4,
 "nbformat_minor": 5
}
