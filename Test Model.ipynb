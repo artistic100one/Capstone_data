{
 "cells": [
  {
   "cell_type": "code",
   "execution_count": 2,
   "metadata": {},
   "outputs": [],
   "source": [
    "import numpy as np\n",
    "import pandas as pd\n",
    "import re\n",
    "import matplotlib.pyplot as plt\n",
    "from nltk.corpus import stopwords\n",
    "from nltk.tokenize import word_tokenize\n",
    "from bs4 import BeautifulSoup \n",
    "from tensorflow.keras.preprocessing.text import Tokenizer \n",
    "from tensorflow.keras.preprocessing.sequence import pad_sequences\n",
    "import urllib.request\n",
    "\n",
    "from konlpy.tag import Kkma\n",
    "\n",
    "kkma = Kkma()\n",
    "np.random.seed(seed=0)"
   ]
  },
  {
   "cell_type": "code",
   "execution_count": 3,
   "metadata": {},
   "outputs": [
    {
     "name": "stdout",
     "output_type": "stream",
     "text": [
      "전체 뉴스 개수 : 30000\n"
     ]
    }
   ],
   "source": [
    "data = pd.read_csv(\"MBNnews2018.csv\", nrows = 30000, encoding='CP949')\n",
    "print('전체 뉴스 개수 :', (len(data)))"
   ]
  },
  {
   "cell_type": "code",
   "execution_count": 4,
   "metadata": {},
   "outputs": [
    {
     "data": {
      "text/html": [
       "<div>\n",
       "<style scoped>\n",
       "    .dataframe tbody tr th:only-of-type {\n",
       "        vertical-align: middle;\n",
       "    }\n",
       "\n",
       "    .dataframe tbody tr th {\n",
       "        vertical-align: top;\n",
       "    }\n",
       "\n",
       "    .dataframe thead th {\n",
       "        text-align: right;\n",
       "    }\n",
       "</style>\n",
       "<table border=\"1\" class=\"dataframe\">\n",
       "  <thead>\n",
       "    <tr style=\"text-align: right;\">\n",
       "      <th></th>\n",
       "      <th>MBN_MDA_SP_CD</th>\n",
       "      <th>MDA_ART_ESSN_NO</th>\n",
       "      <th>MDA_CGR_NM</th>\n",
       "      <th>ART_DATE</th>\n",
       "      <th>ART_SJ_CN</th>\n",
       "      <th>ART_CN</th>\n",
       "      <th>ATCH_IMG_NM</th>\n",
       "      <th>JRNL_NM</th>\n",
       "      <th>WRT_DATE</th>\n",
       "    </tr>\n",
       "  </thead>\n",
       "  <tbody>\n",
       "    <tr>\n",
       "      <th>0</th>\n",
       "      <td>MBN</td>\n",
       "      <td>3424432</td>\n",
       "      <td>mbn00003</td>\n",
       "      <td>2018</td>\n",
       "      <td>11월 국제여객 전년비 11% 증가…\"중국 노선 감소폭 완화\"</td>\n",
       "      <td>지난해 11월 국제선 여객이 전년 동월 대비 11.1% 증가한 것으로 나타났습니다....</td>\n",
       "      <td>NaN</td>\n",
       "      <td>NaN</td>\n",
       "      <td>20180101</td>\n",
       "    </tr>\n",
       "    <tr>\n",
       "      <th>1</th>\n",
       "      <td>MBN</td>\n",
       "      <td>3424434</td>\n",
       "      <td>mbn00003</td>\n",
       "      <td>2018</td>\n",
       "      <td>\"고객을 웃게하자\"...올 한해 행복 전파 나선 현대백화점&lt;br /&gt;</td>\n",
       "      <td>&lt;br /&gt;&lt;!------------ PHOTO_POS_0 ------------&gt;...</td>\n",
       "      <td>http://img.mbn.co.kr/filewww/news/other/2018/0...</td>\n",
       "      <td>NaN</td>\n",
       "      <td>20180101</td>\n",
       "    </tr>\n",
       "    <tr>\n",
       "      <th>2</th>\n",
       "      <td>MBN</td>\n",
       "      <td>3424435</td>\n",
       "      <td>mbn00003</td>\n",
       "      <td>2018</td>\n",
       "      <td>강남차병원 `새해 첫아기` 2명 탄생&lt;br /&gt;</td>\n",
       "      <td>&lt;br /&gt;&lt;!------------ PHOTO_POS_0 ------------&gt;...</td>\n",
       "      <td>http://img.mbn.co.kr/filewww/news/other/2018/0...</td>\n",
       "      <td>NaN</td>\n",
       "      <td>20180101</td>\n",
       "    </tr>\n",
       "    <tr>\n",
       "      <th>3</th>\n",
       "      <td>MBN</td>\n",
       "      <td>3424448</td>\n",
       "      <td>mbn00003</td>\n",
       "      <td>2018</td>\n",
       "      <td>지난해 수출 5천739억달러 '사상최대'…반도체 수출 첫 900억달러</td>\n",
       "      <td>&lt;br /&gt;&lt;br /&gt;&lt;br /&gt;&lt;br /&gt;&lt;!------------ PHOTO_P...</td>\n",
       "      <td>NaN</td>\n",
       "      <td>NaN</td>\n",
       "      <td>20180101</td>\n",
       "    </tr>\n",
       "    <tr>\n",
       "      <th>4</th>\n",
       "      <td>MBN</td>\n",
       "      <td>3424511</td>\n",
       "      <td>mbn00003</td>\n",
       "      <td>2018</td>\n",
       "      <td>중기부, 전통시장에 화재알림시설 설치&lt;br /&gt;</td>\n",
       "      <td>&lt;br /&gt; 앞으로 5년내 전국 전통시장에 첨단 IT 기반의 화재알림시설이 설치된다...</td>\n",
       "      <td>NaN</td>\n",
       "      <td>NaN</td>\n",
       "      <td>20180101</td>\n",
       "    </tr>\n",
       "  </tbody>\n",
       "</table>\n",
       "</div>"
      ],
      "text/plain": [
       "  MBN_MDA_SP_CD  MDA_ART_ESSN_NO MDA_CGR_NM  ART_DATE  \\\n",
       "0           MBN          3424432   mbn00003      2018   \n",
       "1           MBN          3424434   mbn00003      2018   \n",
       "2           MBN          3424435   mbn00003      2018   \n",
       "3           MBN          3424448   mbn00003      2018   \n",
       "4           MBN          3424511   mbn00003      2018   \n",
       "\n",
       "                                ART_SJ_CN  \\\n",
       "0      11월 국제여객 전년비 11% 증가…\"중국 노선 감소폭 완화\"   \n",
       "1  \"고객을 웃게하자\"...올 한해 행복 전파 나선 현대백화점<br />   \n",
       "2              강남차병원 `새해 첫아기` 2명 탄생<br />   \n",
       "3  지난해 수출 5천739억달러 '사상최대'…반도체 수출 첫 900억달러   \n",
       "4              중기부, 전통시장에 화재알림시설 설치<br />   \n",
       "\n",
       "                                              ART_CN  \\\n",
       "0  지난해 11월 국제선 여객이 전년 동월 대비 11.1% 증가한 것으로 나타났습니다....   \n",
       "1  <br /><!------------ PHOTO_POS_0 ------------>...   \n",
       "2  <br /><!------------ PHOTO_POS_0 ------------>...   \n",
       "3  <br /><br /><br /><br /><!------------ PHOTO_P...   \n",
       "4  <br /> 앞으로 5년내 전국 전통시장에 첨단 IT 기반의 화재알림시설이 설치된다...   \n",
       "\n",
       "                                         ATCH_IMG_NM JRNL_NM  WRT_DATE  \n",
       "0                                                NaN     NaN  20180101  \n",
       "1  http://img.mbn.co.kr/filewww/news/other/2018/0...     NaN  20180101  \n",
       "2  http://img.mbn.co.kr/filewww/news/other/2018/0...     NaN  20180101  \n",
       "3                                                NaN     NaN  20180101  \n",
       "4                                                NaN     NaN  20180101  "
      ]
     },
     "execution_count": 4,
     "metadata": {},
     "output_type": "execute_result"
    }
   ],
   "source": [
    "data.head()"
   ]
  },
  {
   "cell_type": "code",
   "execution_count": 5,
   "metadata": {},
   "outputs": [
    {
     "data": {
      "text/html": [
       "<div>\n",
       "<style scoped>\n",
       "    .dataframe tbody tr th:only-of-type {\n",
       "        vertical-align: middle;\n",
       "    }\n",
       "\n",
       "    .dataframe tbody tr th {\n",
       "        vertical-align: top;\n",
       "    }\n",
       "\n",
       "    .dataframe thead th {\n",
       "        text-align: right;\n",
       "    }\n",
       "</style>\n",
       "<table border=\"1\" class=\"dataframe\">\n",
       "  <thead>\n",
       "    <tr style=\"text-align: right;\">\n",
       "      <th></th>\n",
       "      <th>ART_SJ_CN</th>\n",
       "      <th>ART_CN</th>\n",
       "    </tr>\n",
       "  </thead>\n",
       "  <tbody>\n",
       "    <tr>\n",
       "      <th>0</th>\n",
       "      <td>11월 국제여객 전년비 11% 증가…\"중국 노선 감소폭 완화\"</td>\n",
       "      <td>지난해 11월 국제선 여객이 전년 동월 대비 11.1% 증가한 것으로 나타났습니다....</td>\n",
       "    </tr>\n",
       "    <tr>\n",
       "      <th>1</th>\n",
       "      <td>\"고객을 웃게하자\"...올 한해 행복 전파 나선 현대백화점&lt;br /&gt;</td>\n",
       "      <td>&lt;br /&gt;&lt;!------------ PHOTO_POS_0 ------------&gt;...</td>\n",
       "    </tr>\n",
       "    <tr>\n",
       "      <th>2</th>\n",
       "      <td>강남차병원 `새해 첫아기` 2명 탄생&lt;br /&gt;</td>\n",
       "      <td>&lt;br /&gt;&lt;!------------ PHOTO_POS_0 ------------&gt;...</td>\n",
       "    </tr>\n",
       "    <tr>\n",
       "      <th>3</th>\n",
       "      <td>지난해 수출 5천739억달러 '사상최대'…반도체 수출 첫 900억달러</td>\n",
       "      <td>&lt;br /&gt;&lt;br /&gt;&lt;br /&gt;&lt;br /&gt;&lt;!------------ PHOTO_P...</td>\n",
       "    </tr>\n",
       "    <tr>\n",
       "      <th>4</th>\n",
       "      <td>중기부, 전통시장에 화재알림시설 설치&lt;br /&gt;</td>\n",
       "      <td>&lt;br /&gt; 앞으로 5년내 전국 전통시장에 첨단 IT 기반의 화재알림시설이 설치된다...</td>\n",
       "    </tr>\n",
       "  </tbody>\n",
       "</table>\n",
       "</div>"
      ],
      "text/plain": [
       "                                ART_SJ_CN  \\\n",
       "0      11월 국제여객 전년비 11% 증가…\"중국 노선 감소폭 완화\"   \n",
       "1  \"고객을 웃게하자\"...올 한해 행복 전파 나선 현대백화점<br />   \n",
       "2              강남차병원 `새해 첫아기` 2명 탄생<br />   \n",
       "3  지난해 수출 5천739억달러 '사상최대'…반도체 수출 첫 900억달러   \n",
       "4              중기부, 전통시장에 화재알림시설 설치<br />   \n",
       "\n",
       "                                              ART_CN  \n",
       "0  지난해 11월 국제선 여객이 전년 동월 대비 11.1% 증가한 것으로 나타났습니다....  \n",
       "1  <br /><!------------ PHOTO_POS_0 ------------>...  \n",
       "2  <br /><!------------ PHOTO_POS_0 ------------>...  \n",
       "3  <br /><br /><br /><br /><!------------ PHOTO_P...  \n",
       "4  <br /> 앞으로 5년내 전국 전통시장에 첨단 IT 기반의 화재알림시설이 설치된다...  "
      ]
     },
     "execution_count": 5,
     "metadata": {},
     "output_type": "execute_result"
    }
   ],
   "source": [
    "data = data[['ART_SJ_CN', 'ART_CN']]\n",
    "data.head()"
   ]
  },
  {
   "cell_type": "code",
   "execution_count": 6,
   "metadata": {},
   "outputs": [
    {
     "data": {
      "text/html": [
       "<div>\n",
       "<style scoped>\n",
       "    .dataframe tbody tr th:only-of-type {\n",
       "        vertical-align: middle;\n",
       "    }\n",
       "\n",
       "    .dataframe tbody tr th {\n",
       "        vertical-align: top;\n",
       "    }\n",
       "\n",
       "    .dataframe thead th {\n",
       "        text-align: right;\n",
       "    }\n",
       "</style>\n",
       "<table border=\"1\" class=\"dataframe\">\n",
       "  <thead>\n",
       "    <tr style=\"text-align: right;\">\n",
       "      <th></th>\n",
       "      <th>ART_SJ_CN</th>\n",
       "      <th>ART_CN</th>\n",
       "    </tr>\n",
       "  </thead>\n",
       "  <tbody>\n",
       "    <tr>\n",
       "      <th>8225</th>\n",
       "      <td>법원 판결에…고용부vs삼성 '이례적 격돌'</td>\n",
       "      <td>&lt;!------------ PHOTO_POS_0 ------------&gt;【 앵커멘트...</td>\n",
       "    </tr>\n",
       "    <tr>\n",
       "      <th>10794</th>\n",
       "      <td>혼다 어코드 등 수입차의 습격…국산차 업계 '긴장'</td>\n",
       "      <td>&lt;!------------ PHOTO_POS_0 ------------&gt;【 앵커멘트...</td>\n",
       "    </tr>\n",
       "    <tr>\n",
       "      <th>9163</th>\n",
       "      <td>LG, 서울 마곡에 사이언스파크 오픈…4차 산업혁명 미래기술 산실 기대</td>\n",
       "      <td>LG그룹이 조성한 국내 최대 규모 융복합 연구단지인 마곡 LG사이언스파크가 오늘(2...</td>\n",
       "    </tr>\n",
       "    <tr>\n",
       "      <th>26591</th>\n",
       "      <td>이주열 총재, 미 금리인상 신중론에 \"두고 봐야\"</td>\n",
       "      <td>&lt;!------------ PHOTO_POS_0 ------------&gt;이주열 한국...</td>\n",
       "    </tr>\n",
       "    <tr>\n",
       "      <th>6631</th>\n",
       "      <td>르 메르디앙, 가족 휴식 패키지 '패밀리 릴렉세이션' 출시</td>\n",
       "      <td>르 메르디앙이 봄을 맞아 가족이 함께 여유로운 휴식을 즐길 수 있는 르 메르디앙 패...</td>\n",
       "    </tr>\n",
       "    <tr>\n",
       "      <th>14161</th>\n",
       "      <td>이준행 고팍스 대표 \"투명성 강화…상장 수수료 안받는다\"</td>\n",
       "      <td>【 앵커멘트 】&lt;br /&gt;  최근 잇따른 해킹·사기 의혹 등으로 홍역을 치른 암호화...</td>\n",
       "    </tr>\n",
       "    <tr>\n",
       "      <th>252</th>\n",
       "      <td>[신년사] 정성립 대우조선 사장 \"창조적 파괴·시스템 구축으로 자존심 되찾자\"&lt;br /&gt;</td>\n",
       "      <td>&lt;br /&gt;정성립 대우조선해양 사장은 4일 파괴와 창조를 통해 미래를 준비하고, 프...</td>\n",
       "    </tr>\n",
       "    <tr>\n",
       "      <th>2566</th>\n",
       "      <td>신DTI 오늘부터 시행 \"갭투자 줄겠지만…\"</td>\n",
       "      <td>【 앵커멘트 】&lt;br /&gt;&lt;br /&gt;  추가 주택담보대출을 받을 때 기존 대출의 원...</td>\n",
       "    </tr>\n",
       "    <tr>\n",
       "      <th>3478</th>\n",
       "      <td>제주항공 지상조업사 JAS 본격출범&lt;br /&gt;</td>\n",
       "      <td>&lt;br /&gt;제주항공은 지상조업사 ㈜동보공항서비스의 사명을 ㈜제이에이에스(JAS)로 ...</td>\n",
       "    </tr>\n",
       "    <tr>\n",
       "      <th>2917</th>\n",
       "      <td>`수장 공백 장기화` 한전, 英원전수출·에너지전환 등 현안 어쩌나&lt;br /&gt;</td>\n",
       "      <td>&lt;br /&gt;영국 무어사이드 원자력발전소 수주와 에너지전환 정책 등 현안이 산적한 한...</td>\n",
       "    </tr>\n",
       "  </tbody>\n",
       "</table>\n",
       "</div>"
      ],
      "text/plain": [
       "                                               ART_SJ_CN  \\\n",
       "8225                             법원 판결에…고용부vs삼성 '이례적 격돌'   \n",
       "10794                       혼다 어코드 등 수입차의 습격…국산차 업계 '긴장'   \n",
       "9163             LG, 서울 마곡에 사이언스파크 오픈…4차 산업혁명 미래기술 산실 기대   \n",
       "26591                        이주열 총재, 미 금리인상 신중론에 \"두고 봐야\"   \n",
       "6631                    르 메르디앙, 가족 휴식 패키지 '패밀리 릴렉세이션' 출시   \n",
       "14161                    이준행 고팍스 대표 \"투명성 강화…상장 수수료 안받는다\"   \n",
       "252    [신년사] 정성립 대우조선 사장 \"창조적 파괴·시스템 구축으로 자존심 되찾자\"<br />   \n",
       "2566                            신DTI 오늘부터 시행 \"갭투자 줄겠지만…\"   \n",
       "3478                           제주항공 지상조업사 JAS 본격출범<br />   \n",
       "2917          `수장 공백 장기화` 한전, 英원전수출·에너지전환 등 현안 어쩌나<br />   \n",
       "\n",
       "                                                  ART_CN  \n",
       "8225   <!------------ PHOTO_POS_0 ------------>【 앵커멘트...  \n",
       "10794  <!------------ PHOTO_POS_0 ------------>【 앵커멘트...  \n",
       "9163   LG그룹이 조성한 국내 최대 규모 융복합 연구단지인 마곡 LG사이언스파크가 오늘(2...  \n",
       "26591  <!------------ PHOTO_POS_0 ------------>이주열 한국...  \n",
       "6631   르 메르디앙이 봄을 맞아 가족이 함께 여유로운 휴식을 즐길 수 있는 르 메르디앙 패...  \n",
       "14161  【 앵커멘트 】<br />  최근 잇따른 해킹·사기 의혹 등으로 홍역을 치른 암호화...  \n",
       "252    <br />정성립 대우조선해양 사장은 4일 파괴와 창조를 통해 미래를 준비하고, 프...  \n",
       "2566   【 앵커멘트 】<br /><br />  추가 주택담보대출을 받을 때 기존 대출의 원...  \n",
       "3478   <br />제주항공은 지상조업사 ㈜동보공항서비스의 사명을 ㈜제이에이에스(JAS)로 ...  \n",
       "2917   <br />영국 무어사이드 원자력발전소 수주와 에너지전환 정책 등 현안이 산적한 한...  "
      ]
     },
     "execution_count": 6,
     "metadata": {},
     "output_type": "execute_result"
    }
   ],
   "source": [
    "data.sample(10)"
   ]
  },
  {
   "cell_type": "code",
   "execution_count": 7,
   "metadata": {},
   "outputs": [
    {
     "name": "stdout",
     "output_type": "stream",
     "text": [
      "SJ 열에서 중복을 배제한 유일한 샘플의 수 : 27601\n",
      "Body 열에서 중복을 배제한 유일한 샘플의 수 : 29939\n"
     ]
    }
   ],
   "source": [
    "print('SJ 열에서 중복을 배제한 유일한 샘플의 수 :', data['ART_SJ_CN'].nunique())\n",
    "print('Body 열에서 중복을 배제한 유일한 샘플의 수 :', data['ART_CN'].nunique())"
   ]
  },
  {
   "cell_type": "code",
   "execution_count": 8,
   "metadata": {},
   "outputs": [
    {
     "name": "stdout",
     "output_type": "stream",
     "text": [
      "전체 샘플 수 : 29939\n"
     ]
    }
   ],
   "source": [
    "data.drop_duplicates(subset=['ART_CN'], inplace=True)\n",
    "print(\"전체 샘플 수 :\", len(data))"
   ]
  },
  {
   "cell_type": "code",
   "execution_count": 9,
   "metadata": {},
   "outputs": [
    {
     "name": "stdout",
     "output_type": "stream",
     "text": [
      "ART_SJ_CN    0\n",
      "ART_CN       0\n",
      "dtype: int64\n"
     ]
    }
   ],
   "source": [
    "print(data.isnull().sum())"
   ]
  },
  {
   "cell_type": "code",
   "execution_count": 10,
   "metadata": {},
   "outputs": [
    {
     "name": "stdout",
     "output_type": "stream",
     "text": [
      "['아', '휴', '아이구', '아이쿠', '아이고', '어', '나', '우리', '저희', '따라', '의해', '을', '를', '에', '의', '가', '으로', '로', '에게', '뿐이다', '의거하여', '근거하여', '입각하여', '기준으로', '예하면', '예를', '들면', '예를', '들자면', '저', '소인', '소생', '저희', '지말고', '하지마', '하지마라', '다른', '물론', '또한', '그리고', '비길수', '없다', '해서는', '안된다', '뿐만', '아니라', '만이', '아니다', '만은', '아니다', '막론하고', '관계없이', '그치지', '않다', '그러나', '그런데', '하지만', '든간에', '논하지', '않다', '따지지', '않다', '설사', '비록', '더라도', '아니면', '만', '못하다', '하는', '편이', '낫다', '불문하고', '향하여', '향해서', '향하다', '쪽으로', '틈타', '이용하여', '타다', '오르다', '제외하고', '이', '외에', '이', '밖에', '하여야', '비로소', '한다면', '몰라도', '외에도', '이곳', '여기', '부터', '기점으로', '따라서', '할', '생각이다', '하려고하다', '이리하여', '그리하여', '그렇게', '함으로써', '하지만', '일때', '할때', '앞에서', '중에서', '보는데서', '으로써', '로써', '까지', '해야한다', '일것이다', '반드시', '할줄알다', '할수있다', '할수있어', '임에', '틀림없다', '한다면', '등', '등등', '제', '겨우', '단지', '다만', '할뿐', '딩동', '댕그', '대해서', '대하여', '대하면', '훨씬', '얼마나', '얼마만큼', '얼마큼', '남짓', '여', '얼마간', '약간', '다소', '좀', '조금', '다수', '몇', '얼마', '지만', '하물며', '또한', '그러나', '그렇지만', '하지만', '이외에도', '대해', '말하자면', '뿐이다', '다음에', '반대로', '반대로', '말하자면', '이와', '반대로', '바꾸어서', '말하면', '바꾸어서', '한다면', '만약', '그렇지않으면', '까악', '툭', '딱', '삐걱거리다', '보드득', '비걱거리다', '꽈당', '응당', '해야한다', '에', '가서', '각', '각각', '여러분', '각종', '각자', '제각기', '하도록하다', '와', '과', '그러므로', '그래서', '고로', '한', '까닭에', '하기', '때문에', '거니와', '이지만', '대하여', '관하여', '관한', '과연', '실로', '아니나다를가', '생각한대로', '진짜로', '한적이있다', '하곤하였다', '하', '하하', '허허', '아하', '거바', '와', '오', '왜', '어째서', '무엇때문에', '어찌', '하겠는가', '무슨', '어디', '어느곳', '더군다나', '하물며', '더욱이는', '어느때', '언제', '야', '이봐', '어이', '여보시오', '흐흐', '흥', '휴', '헉헉', '헐떡헐떡', '영차', '여차', '어기여차', '끙끙', '아야', '앗', '아야', '콸콸', '졸졸', '좍좍', '뚝뚝', '주룩주룩', '솨', '우르르', '그래도', '또', '그리고', '바꾸어말하면', '바꾸어말하자면', '혹은', '혹시', '답다', '및', '그에', '따르는', '때가', '되어', '즉', '지든지', '설령', '가령', '하더라도', '할지라도', '일지라도', '지든지', '몇', '거의', '하마터면', '인젠', '이젠', '된바에야', '된이상', '만큼', '어찌됏든', '그위에', '게다가', '점에서', '보아', '비추어', '보아', '고려하면', '하게될것이다', '일것이다', '비교적', '좀', '보다더', '비하면', '시키다', '하게하다', '할만하다', '의해서', '연이서', '이어서', '잇따라', '뒤따라', '뒤이어', '결국', '의지하여', '기대여', '통하여', '자마자', '더욱더', '불구하고', '얼마든지', '마음대로', '주저하지', '않고', '곧', '즉시', '바로', '당장', '하자마자', '밖에', '안된다', '하면된다', '그래', '그렇지', '요컨대', '다시', '말하자면', '바꿔', '말하면', '즉', '구체적으로', '말하자면', '시작하여', '시초에', '이상', '허', '헉', '허걱', '바와같이', '해도좋다', '해도된다', '게다가', '더구나', '하물며', '와르르', '팍', '퍽', '펄렁', '동안', '이래', '하고있었다', '이었다', '에서', '로부터', '까지', '예하면', '했어요', '해요', '함께', '같이', '더불어', '마저', '마저도', '양자', '모두', '습니다', '가까스로', '하려고하다', '즈음하여', '다른', '다른', '방면으로', '해봐요', '습니까', '했어요', '말할것도', '없고', '무릎쓰고', '개의치않고', '하는것만', '못하다', '하는것이', '낫다', '매', '매번', '들', '모', '어느것', '어느', '로써', '갖고말하자면', '어디', '어느쪽', '어느것', '어느해', '어느', '년도', '라', '해도', '언젠가', '어떤것', '어느것', '저기', '저쪽', '저것', '그때', '그럼', '그러면', '요만한걸', '그래', '그때', '저것만큼', '그저', '이르기까지', '할', '줄', '안다', '할', '힘이', '있다', '너', '너희', '당신', '어찌', '설마', '차라리', '할지언정', '할지라도', '할망정', '할지언정', '구토하다', '게우다', '토하다', '메쓰겁다', '옆사람', '퉤', '쳇', '의거하여', '근거하여', '의해', '따라', '힘입어', '그', '다음', '버금', '두번째로', '기타', '첫번째로', '나머지는', '그중에서', '견지에서', '형식으로', '쓰여', '입장에서', '위해서', '단지', '의해되다', '하도록시키다', '뿐만아니라', '반대로', '전후', '전자', '앞의것', '잠시', '잠깐', '하면서', '그렇지만', '다음에', '그러한즉', '그런즉', '남들', '아무거나', '어찌하든지', '같다', '비슷하다', '예컨대', '이럴정도로', '어떻게', '만약', '만일', '위에서', '서술한바와같이', '인', '듯하다', '하지', '않는다면', '만약에', '무엇', '무슨', '어느', '어떤', '아래윗', '조차', '한데', '그럼에도', '불구하고', '여전히', '심지어', '까지도', '조차도', '하지', '않도록', '않기', '위하여', '때', '시각', '무렵', '시간', '동안', '어때', '어떠한', '하여금', '네', '예', '우선', '누구', '누가', '알겠는가', '아무도', '줄은모른다', '줄은', '몰랏다', '하는', '김에', '겸사겸사', '하는바', '그런', '까닭에', '한', '이유는', '그러니', '그러니까', '때문에', '그', '너희', '그들', '너희들', '타인', '것', '것들', '너', '위하여', '공동으로', '동시에', '하기', '위하여', '어찌하여', '무엇때문에', '붕붕', '윙윙', '나', '우리', '엉엉', '휘익', '윙윙', '오호', '아하', '어쨋든', '만', '못하다', '하기보다는', '차라리', '하는', '편이', '낫다', '흐흐', '놀라다', '상대적으로', '말하자면', '마치', '아니라면', '쉿', '그렇지', '않으면', '그렇지', '않다면', '안', '그러면', '아니었다면', '하든지', '아니면', '이라면', '좋아', '알았어', '하는것도', '그만이다', '어쩔수', '없다', '하나', '일', '일반적으로', '일단', '한켠으로는', '오자마자', '이렇게되면', '이와같다면', '전부', '한마디', '한항목', '근거로', '하기에', '아울러', '하지', '않도록', '않기', '위해서', '이르기까지', '이', '되다', '로', '인하여', '까닭으로', '이유만으로', '이로', '인하여', '그래서', '이', '때문에', '그러므로', '그런', '까닭에', '알', '수', '있다', '결론을', '낼', '수', '있다', '으로', '인하여', '있다', '어떤것', '관계가', '있다', '관련이', '있다', '연관되다', '어떤것들', '에', '대해', '이리하여', '그리하여', '여부', '하기보다는', '하느니', '하면', '할수록', '운운', '이러이러하다', '하구나', '하도다', '다시말하면', '다음으로', '에', '있다', '에', '달려', '있다', '우리', '우리들', '오히려', '하기는한데', '어떻게', '어떻해', '어찌됏어', '어때', '어째서', '본대로', '자', '이', '이쪽', '여기', '이것', '이번', '이렇게말하자면', '이런', '이러한', '이와', '같은', '요만큼', '요만한', '것', '얼마', '안', '되는', '것', '이만큼', '이', '정도의', '이렇게', '많은', '것', '이와', '같다', '이때', '이렇구나', '것과', '같이', '끼익', '삐걱', '따위', '와', '같은', '사람들', '부류의', '사람들', '왜냐하면', '중의하나', '오직', '오로지', '에', '한하다', '하기만', '하면', '도착하다', '까지', '미치다', '도달하다', '정도에', '이르다', '할', '지경이다', '결과에', '이르다', '관해서는', '여러분', '하고', '있다', '한', '후', '혼자', '자기', '자기집', '자신', '우에', '종합한것과같이', '총적으로', '보면', '총적으로', '말하면', '총적으로', '대로', '하다', '으로서', '참', '그만이다', '할', '따름이다', '쿵', '탕탕', '쾅쾅', '둥둥', '봐', '봐라', '아이야', '아니', '와아', '응', '아이', '참나', '년', '월', '일', '령', '영', '일', '이', '삼', '사', '오', '육', '륙', '칠', '팔', '구', '이천육', '이천칠', '이천팔', '이천구', '하나', '둘', '셋', '넷', '다섯', '여섯', '일곱', '여덟', '아홉', '령', '영', '이', '있', '하', '것', '들', '그', '되', '수', '이', '보', '않', '없', '나', '사람', '주', '아니', '등', '같', '우리', '때', '년', '가', '한', '지', '대하', '오', '말', '일', '그렇', '위하', '때문', '그것', '두', '말하', '알', '그러나', '받', '못하', '일', '그런', '또', '문제', '더', '사회', '많', '그리고', '좋', '크', '따르', '중', '나오', '가지', '씨', '시키', '만들', '지금', '생각하', '그러', '속', '하나', '집', '살', '모르', '적', '월', '데', '자신', '안', '어떤', '내', '내', '경우', '명', '생각', '시간', '그녀', '다시', '이런', '앞', '보이', '번', '나', '다른', '어떻', '여자', '개', '전', '들', '사실', '이렇', '점', '싶', '말', '정도', '좀', '원', '잘', '통하', '놓']\n"
     ]
    }
   ],
   "source": [
    "# stop_words = set(stopwords.words('english'))\n",
    "# print('불용어 개수 :', len(stop_words))\n",
    "# print(stop_words)\n",
    "\n",
    "f = open(\"preprocessing.txt\",encoding='UTF-8')\n",
    "preprocessing_Text = f.read()\n",
    "stop_words = word_tokenize(preprocessing_Text)\n",
    "\n",
    "print(stop_words)"
   ]
  },
  {
   "cell_type": "code",
   "execution_count": 11,
   "metadata": {},
   "outputs": [],
   "source": [
    "# 전처리 함수\n",
    "def preprocess_sentence(sentence, remove_stopwords = True):\n",
    "    sentence = sentence.upper() # 텍스트 대문자화\n",
    "    sentence = BeautifulSoup(sentence, \"lxml\").text # <br />, <a href = ...> 등의 html 태그 제거\n",
    "    sentence = re.sub(r'\\([^)]*\\)', '', sentence) # 괄호로 닫힌 문자열  제거 Ex) my husband (and myself) for => my husband for\n",
    "    sentence = re.sub('\"','', sentence) # 쌍따옴표 \" 제거\n",
    "    sentence = re.sub('[ㅋ]{2,}', 'ㅋㅋ', sentence) # ㅋ이 3개 이상이면 2개로 변경. Ex) ㅋㅋㅋㅋㅋㅋ -> ㅋㅋ\n",
    "\n",
    "    # 불용어 제거 (Text)\n",
    "    if remove_stopwords:\n",
    "        tokens = ' '.join(word for word in sentence.split() if not word in stop_words if len(word) > 1)\n",
    "    # 불용어 미제거 (Summary)\n",
    "    else:\n",
    "        tokens = ' '.join(word for word in sentence.split() if len(word) > 1)\n",
    "    return tokens"
   ]
  },
  {
   "cell_type": "code",
   "execution_count": 12,
   "metadata": {},
   "outputs": [
    {
     "data": {
      "text/plain": [
       "[\"지난해 11월 국제선 여객이 전년 동월 대비 11.1% 증가한 것으로 나타났습니다. 중국노선 감소폭이 완화되고 일본·동남아 대체노선 운항 확대, 원화강세로 인한 여행수요 증가 등이 영향을 미친 것으로 분석됩니다. 국토교통부가 발표한 '2017년 11월 항공운송시장 동향'에 따르면, 국제선 여객은 전년 동월 대비 11.1% 증가한 644만 명을 기록했습니다. 국제여객은 지난해 7월 전년 동월 대비 2.2% 감소했으나, 8월부터 증가세로 돌아섰습니다. 지난 8월 1.1%, 9월 3.7%, 10월 4%, 11월 11.1% 증가했습니다.일본 노선은 전년 동월 대비 7월 27.9%, 8월 25.5%, 9월, 21.6%, 10월 17.8%, 11월 27.9% 증가했습니다. 동남아 노선은 전년 동월 대비 7월 12.9%, 8월 16.7%, 9월 16.7%, 10월 18.7%, 11월 21.7% 증가했습니다. 지역별로는 중국 노선이 9개월 연속 감소세이나 8월부터 감소폭이 계속 완화되고 있습니다. 일본·동남아·대양주노선 등은 자릿수 증가율을 보였습니다. 공항별로는 대구, 김해, 인천공항에서 전년 동월 대비 성장세를 보였습니다. 청주, 양양, 제주, 무안공항은 감소했으나 청주공항 감소폭은 계속 완화되고 있는 것으로 나타났습니다. 청주 공항은 7월 -82.2%, 8월 -83%, 9월 -77%, 10월 -71.9, 11월 -59.7%를 기록했습니다. 항공사별로는 국적 대형항공사가 전년 동월 대비 4.5% 증가했으며 국적 저비용항공사의 경우에도 전년 동월 대비 40.7% 증가해 국적사 분담률은 69.5%를 기록했습니다. 지난해 11월 국내여객은 전년 동월 대비 4.1% 증가했습니다. 국내선 여객은 저비용항공사 공급석 제주노선 여객 수요 증가로 전년 동월 대비 4.1% 증가한 263만 명을 기록했습니다.공항별로는 광주, 청주, 대구공항 등은 높은 증가율을 보였으나 울산, 김포공항 등은 감소세를 보였습니다. 항공사별로는 국적 대형항공사의 국내여객 운송량은 111만 명으로 전년 동월 대비 1.4% 증가했습니다. 저비용항공사는 152만 명으로 전년 동월 대비 6.2% 증가했고, 57.8%의 분담률을 기록했습니다. 항공화물의 글로벌 IT 경기 호조 해외직구 물량 증가로 전년 동월 대비 6.3% 증가했습니다. 국제화물은 중국 노선을 제외한 대양주·동남아·미주노선 지역 노선이 증가하며 전년 동월 대비 6.8% 증가한 36만 톤을 기록했습니다.국내화물은 내륙노선은 증가했으나, 제주노선이 감소해 전년 동월 대비 2% 감소한 2.3만 톤을 기록했습니다. 국토부 관계자는 중국노선의 수요 감소세가 완화될 것으로 예상되며 일본?동남아 노선 다변화 겨울방학 등으로 항공여객은 성장세를 보일 것이라며 항공여객 1억명을 돌파 했던 지난 16년 12월에 이어 올해도 1억명 달성은 무난할 것으로 예상된다고 말했습니다.\",\n",
       " \"현대백화점이 2018년 무술년 새해 벽두부터 '행복 에너지' 전파에 나선다. 글로벌 웃음 아이콘 '스마일리'를 활용해 '행복'을 주제로 캠페인을 연중 진행하기로 했다. 즐거움과 긍정의 에너지를 전반으로 확산시켜나가는게 목표다. 현대백화점은 새해 영업일인 2일부터 올해 '2018 스마일리 캠페인'을 진행한다고 1일 밝혔다. 유통업계에서 시즌별로 주제를 정해 이벤트나 캠페인을 적은 있지만, 1년 테마로 대대적인 캠페인에 나선 것은 이례적이다. 현대백화점은 최근 '스마일리'의 글로벌 판권을 보유한 영국 '스마일리 컴퍼니'와 스마일리 캐릭터 사용·저작권에 대한 국내 라이선스 계약을 체결했다. 웃는 얼굴을 뜻하는 '스마일리'는 노란 동그라미에 개와 웃는 모양이 그려진 얼굴 그림이다. 지난 1963년 그래픽 디자이너 '하비 볼'이 만들었고 1972년 1월 프랑스 일간지 '프랑 수아'에서 좋은 소식을 강조하고자 사용하며 확산됐다. 최근 이모티콘에도 등장하면서 '행복과 긍정의 상징'으로 통한다. 현대백화점 정지영 영업전략실장는 스마일리 캠페인은 고객에게 행복과 긍정의 에너지를 전파해 2018년 무술년 해를 활기차고 희망차게 보내자는 의미가 담겨 있다며 스마일리 캐릭터를 활용해 대형 조형물을 설치하거나 백화점 내부를 재미있게 꾸미는 상업적 요소를 최소화하는 대신 고객이 웃게 있는 체험형 콘텐츠와 이벤트를 진행할 계획이라고 말했다. 이를 위해 현대백화점은 백화점 내·외부를 '스마일리'로 꾸며 고객에게 행복 에너지를 제공하는 '힐링공간'으로 탈바꿈시킬 계획이다. 현대백화점 임직원과 전국 15개 백화점 협력사원 3만여명도 '스마일리 뱃지'를 달고 스마일리 캠페인 홍보에 나서며, 고객에게도 '스마일리 스티커' 100만장을 무료로 제공할 방침이다. 압구정본점·무역센터점·천호점·신촌점·대구점 주요 백화점·아울렛 정문에 반짝이는 LED와 신나는 음악이 나오는 6M 높이의 대형 조형물인 '스마일리 라이트닝볼'을 운영한다. 백화점 내부에 대형 '숨은 스마일리 찾기' 그림판과 '스마일리 대형 풍선' 등으로 꾸미고, 백화점 옥상엔 '스마일리'를 활용한 조형물도 설치할 계획이다. 백화점 홈페이지·SNS 온라인 채널에도 쇼핑이나 할인 정보보다 '스마일리'의 희망 메시지를 앞세울 계획이다. 백화점 매장도 고객층이 선호하는 클래식·가요·동요 밝은 배경 음악으로 희망의 기운을 북돋고, 내방 고객에게는 '감사합니다. 희망찬 되세요'등 감성적인 인사말로 맞이할 계획이다. 현대백화점은 특히, '행복 에너지' 확산을 위해 사람들이 몰리는 도심 곳곳에도 '스마일리'를 노출시킬 예정이다. 먼저, 1월 달간 서울과 대구 등에서 월요일 출근 시간과 금요일 퇴근 시간에 '스마일리' 캐릭터로 래핑한 '스마일리카'를 운행할 계획이다. 강남역·논현역·잠실역·여의도역 유동 인구가 주요 지하철역과 버스 정류장에 희망의 메시지를 담은 대형 광고물도 설치할 예정이다. 1월부터 점포별로 마술쇼, 밴드 버스킹, 발레 공연 다양한 볼거리를 제공하고, 그림 그리기 대회, 대형 플래시몹 고객 참여형 체험 콘텐츠도 지속적으로 진행할 계획이다. [이한나 기자][Ⓒ 매일경제 MK.CO.KR, 무단전재 재배포 금지]\",\n",
       " \"황금개띠해 아기 2명이 2018년 새벽 0시 0분에 차의과학대학교 차병원에서 태어났다. 산모 장혜라 씨와 남편 김선호 사이에서 태어난 3.43KG의 건강한 남아 '마음이'는 우렁찬 울음소리로 새해 시작을 알렸다. 엄마 씨는 기다렸던 아이가 건강하게 태어나줘서 너무 대견하고 기쁘다며 무술년 황금 개띠의 해에 첫날 처음으로 태어난 밝고 건강하게 자랐으면 좋겠다며 웃었다. 아빠 씨도 아들이 태어난 것만으로도 세상을 얻은 같은데, 2018년 아기라고 하니 뜻깊다며 아이가 태어난 날짜와 시간을 영원히 잊지 않을 같다며 행복해했다.또 산모 김효정 씨와 남편 한석헌 사이에서 태어난 2.93KG의 건강한 남아 '꽃돌이'도 새해 아기로 이름을 올렸다. 엄마 씨는 늦게 가진 아이이고 출산이어서 걱정이 많았는데, 새해 출발을 아이와 있어 너무 기쁘다고 말했다. 아빠 씨는 꽃돌이를 건강하게 출산할 있게 도와준 강남차병원 의료진 관계자 분들께 감사 드린다며 누구보다도 건강하고 똑똑한 아기로 키우겠다고 말했다.제일병원에서도 1일 0시 0분 대한민국 아기가 탄생했다. 엄마 박수진 씨와 아빠 김진호 사이에서 자연분만으로 태어난 2.83KG의 아기 '깜주'가 주인공이다. 2017년 결혼해 2018년 새해 첫날 첫째 아이를 안은 아빠 김진호 씨는 건강하고 인성이 바른 아이로 자랐으면 좋겠다면서 엄마 아빠와 행복하게 지내자고 사랑하는 딸에게 첫인사를 건넸다. 분만을 담당한 김문영 제일병원 산부인과 교수는 산모와 아기 건강하게 새해 첫날을 맞았다면서 아기가 지혜롭고 건강하게 자라길 바라며 새해에는 아기들의 울음소리를 들을 있으면 좋겠다고 말했다. [신찬옥 기자][Ⓒ 매일경제 MK.CO.KR, 무단전재 재배포 금지]\",\n",
       " \"작년 우리나라 수출이 사상 최대치를 기록하는 여러 수출 신기록을 세웠습니다.산업통상자원부는 2017년 연간 수출액이 5천739억 달러로 잠정 집계됐다고 1일 밝혔습니다.이는 전년 대비 15.8% 증가한 것이며 1956년 무역통계 작성 최대 실적입니다.수입은 4천781억 달러로 전년 대비 17.7% 증가했습니다.수출입을 합친 무역 규모는 1조520억 달러로 3년 만에 1조 달러를 회복했고, 무역수지는 958억 달러입니다.우리 수출의 세계시장 점유율은 역대 최대인 3.6%이며 세계 수출 순위도 지난해 8위에서 6위로 단계 상승했습니다.연간 수출을 품목별로 13대 품목 9개 품목 수출이 증가했습니다.반도체 57.4%, 석유제품 31.7%, 석유화학 23.5%, 선박 23.6%, 철강 20.0%, 일반기계 10.2%, 컴퓨터 9.6%, 디스플레이 9.1%, 자동차 3.9%다.반도체의 979억4천만 달러로 단일 품목 사상 최초로 연간 수출액 900억 달러를 돌파했습니다. 이는 1994년 우리나라 총수출보다 많습니다.섬유 -0.4%, 자동차부품 -9.5%, 가전 -22.5%, 무선통신기기 -25.5% 4개 품목은 판매 부진과 해외생산 확대 등의 영향으로 수출이 줄었습니다.중동을 제외한 모든 지역으로의 수출이 증가한 가운데 특히 아세안과 인도 수출은 사상 최대치를 기록했습니다.산업부는 아세안·중남미·인도·독립국가연합 '남북 교역축'을 구성하는 신흥시장 수출 증가로 중국과 미국 수출 비중이 감소하는 시장 다변화가 진전됐다고 밝혔습니다.수출이 자릿수 증가률을 보인 지역은 베트남 46.3%, CIS 33.8%, 인도 30.0%, 아세안 27.8%, 유럽연합 16.0%, 중국 14.2%, 중남미 10.5%, 일본 10.1% 8개 지역입니다.미국 수출은 3.2% 증가했지만, 무역흑자는 완성차 판매 부진에 따른 자동차, 자동차부품 수출 감소와 천연가스·반도체 장비 수입 증가 등으로 전년 대비 22.7% 감소한 179억7천만 달러로 집계됐습니다.2012년 한미 자유무역협정 발효 이후 처음으로 200억 달러 아래로 내려갔습니다.12월 월간 수출입은 490억7천만 달러, 433억 달러로 전년 대비 8.9%, 13.0% 증가했고, 12월 무역수지는 76억 달러를 기록했습니다.\",\n",
       " '앞으로 5년내 전국 전통시장에 첨단 IT 기반의 화재알림시설이 설치된다. 홍종학 중소벤처기업부 장관은 1일 서울 신원시장을 방문해 화재예방 안전관리 상황을 점검하고, 전통시장에 대한 화재알림시설 설치 노후전선 정비계획을 밝혔다. 중기부는 올해 상반기에 전국 3만2000개 점포에 사물인터넷 기반 화재알림시설 자동 화재속보장치를 설치하기로 했다. 2022년까지 전국의 모든 전통시장에 시설을 확대할 계획이다. 화재속보장치는 연기·불꽃·온도 발화요인을 5분이내 감지해 소방서와 상인에 통보하는 시설이다. 시설현대화사업 예산을 활용해 올해 100곳의 안전취약시장의 노후전선을 정비하고 2020년까지 300곳으로 확대할 예정이다. 이외 화재예방대책반을 가동해 안전 취약시장별로 전담자를 지정·집중 관리하는 핫라인을 설치하며, 오는 19일까지 소방청·한전·전기안전공사 관계기관과 합동으로 전국 1400여 전통시장을 대상으로 화재안전실태 일제 점검 실시한다. 중기부는 시장 상인과 전문가의 의견을 수렴해 전통시장이 화재위험으로부터 안전해질 있도록 근본적 개선을 포함한 종합대책을 마련할 계획이다. [서찬동 기자][Ⓒ 매일경제 MK.CO.KR, 무단전재 재배포 금지]']"
      ]
     },
     "execution_count": 12,
     "metadata": {},
     "output_type": "execute_result"
    }
   ],
   "source": [
    "clean_text = []\n",
    "for s in data['ART_CN']:\n",
    "    clean_text.append(preprocess_sentence(s))\n",
    "clean_text[:5]"
   ]
  },
  {
   "cell_type": "code",
   "execution_count": 13,
   "metadata": {},
   "outputs": [
    {
     "data": {
      "text/plain": [
       "['11월 국제여객 전년비 11% 증가…중국 노선 감소폭 완화',\n",
       " '고객을 웃게하자...올 한해 행복 전파 나선 현대백화점',\n",
       " '강남차병원 `새해 첫아기` 2명 탄생',\n",
       " \"지난해 수출 5천739억달러 '사상최대'…반도체 수출 900억달러\",\n",
       " '중기부, 전통시장에 화재알림시설 설치']"
      ]
     },
     "execution_count": 13,
     "metadata": {},
     "output_type": "execute_result"
    }
   ],
   "source": [
    "clean_summary = []\n",
    "for s in data['ART_SJ_CN']:\n",
    "    clean_summary.append(preprocess_sentence(s, 0))\n",
    "clean_summary[:5]"
   ]
  },
  {
   "cell_type": "code",
   "execution_count": 14,
   "metadata": {},
   "outputs": [],
   "source": [
    "data['ART_CN'] = clean_text\n",
    "data['ART_SJ_CN'] = clean_summary"
   ]
  },
  {
   "cell_type": "code",
   "execution_count": 15,
   "metadata": {},
   "outputs": [
    {
     "name": "stdout",
     "output_type": "stream",
     "text": [
      "ART_SJ_CN    0\n",
      "ART_CN       2\n",
      "dtype: int64\n"
     ]
    }
   ],
   "source": [
    "data.replace('', np.nan, inplace=True)\n",
    "print(data.isnull().sum())"
   ]
  },
  {
   "cell_type": "code",
   "execution_count": 16,
   "metadata": {},
   "outputs": [
    {
     "name": "stdout",
     "output_type": "stream",
     "text": [
      "전체 샘플수 : 29937\n"
     ]
    }
   ],
   "source": [
    "data.dropna(axis = 0, inplace = True)\n",
    "print('전체 샘플수 :',(len(data)))"
   ]
  },
  {
   "cell_type": "code",
   "execution_count": 17,
   "metadata": {},
   "outputs": [
    {
     "name": "stdout",
     "output_type": "stream",
     "text": [
      "텍스트의 최소 길이 : 1\n",
      "텍스트의 최대 길이 : 2434\n",
      "텍스트의 평균 길이 : 141.78675217957712\n",
      "요약의 최소 길이 : 1\n",
      "요약의 최대 길이 : 15\n",
      "요약의 평균 길이 : 6.296856732471523\n"
     ]
    },
    {
     "data": {
      "image/png": "[encoded data removed]",
      "text/plain": [
       "<Figure size 432x288 with 2 Axes>"
      ]
     },
     "metadata": {
      "needs_background": "light"
     },
     "output_type": "display_data"
    },
    {
     "data": {
      "image/png": "[encoded data removed]",
      "text/plain": [
       "<Figure size 432x288 with 1 Axes>"
      ]
     },
     "metadata": {
      "needs_background": "light"
     },
     "output_type": "display_data"
    },
    {
     "data": {
      "image/png": "[encoded data removed]",
      "text/plain": [
       "<Figure size 432x288 with 1 Axes>"
      ]
     },
     "metadata": {
      "needs_background": "light"
     },
     "output_type": "display_data"
    }
   ],
   "source": [
    "# 길이 분포 출력\n",
    "text_len = [len(s.split()) for s in data['ART_CN']]\n",
    "summary_len = [len(s.split()) for s in data['ART_SJ_CN']]\n",
    "\n",
    "print('텍스트의 최소 길이 : {}'.format(np.min(text_len)))\n",
    "print('텍스트의 최대 길이 : {}'.format(np.max(text_len)))\n",
    "print('텍스트의 평균 길이 : {}'.format(np.mean(text_len)))\n",
    "print('요약의 최소 길이 : {}'.format(np.min(summary_len)))\n",
    "print('요약의 최대 길이 : {}'.format(np.max(summary_len)))\n",
    "print('요약의 평균 길이 : {}'.format(np.mean(summary_len)))\n",
    "\n",
    "plt.subplot(1,2,1)\n",
    "plt.boxplot(summary_len)\n",
    "plt.title('ART_SJ_CN')\n",
    "plt.subplot(1,2,2)\n",
    "plt.boxplot(text_len)\n",
    "plt.title('ART_CN')\n",
    "plt.tight_layout()\n",
    "plt.show()\n",
    "\n",
    "plt.title('ART_SJ_CN')\n",
    "plt.hist(summary_len, bins=40)\n",
    "plt.xlabel('length of samples')\n",
    "plt.ylabel('number of samples')\n",
    "plt.show()\n",
    "\n",
    "plt.title('ART_CN')\n",
    "plt.hist(text_len, bins=40)\n",
    "plt.xlabel('length of samples')\n",
    "plt.ylabel('number of samples')\n",
    "plt.show()"
   ]
  },
  {
   "cell_type": "code",
   "execution_count": 18,
   "metadata": {},
   "outputs": [],
   "source": [
    "text_max_len = 150\n",
    "summary_max_len = 8"
   ]
  },
  {
   "cell_type": "code",
   "execution_count": 19,
   "metadata": {},
   "outputs": [],
   "source": [
    "def below_threshold_len(max_len, nested_list):\n",
    "    cnt = 0\n",
    "    for s in nested_list:\n",
    "        if(len(s.split()) <= max_len):\n",
    "            cnt = cnt + 1\n",
    "    print('전체 샘플 중 길이가 %s 이하인 샘플의 비율: %s'%(max_len, (cnt / len(nested_list))))"
   ]
  },
  {
   "cell_type": "code",
   "execution_count": 20,
   "metadata": {},
   "outputs": [
    {
     "name": "stdout",
     "output_type": "stream",
     "text": [
      "전체 샘플 중 길이가 150 이하인 샘플의 비율: 0.6084109964258275\n"
     ]
    }
   ],
   "source": [
    "below_threshold_len(text_max_len, data['ART_CN'])"
   ]
  },
  {
   "cell_type": "code",
   "execution_count": 21,
   "metadata": {},
   "outputs": [
    {
     "name": "stdout",
     "output_type": "stream",
     "text": [
      "전체 샘플 중 길이가 8 이하인 샘플의 비율: 0.9269131843538096\n"
     ]
    }
   ],
   "source": [
    "below_threshold_len(summary_max_len, data['ART_SJ_CN'])"
   ]
  },
  {
   "cell_type": "code",
   "execution_count": 22,
   "metadata": {},
   "outputs": [
    {
     "name": "stdout",
     "output_type": "stream",
     "text": [
      "전체 샘플 수 : 17266\n"
     ]
    }
   ],
   "source": [
    "data = data[data['ART_CN'].apply(lambda x: len(x.split()) <= text_max_len)]\n",
    "data = data[data['ART_SJ_CN'].apply(lambda x: len(x.split()) <= summary_max_len)]\n",
    "print(\"전체 샘플 수 :\", (len(data)))"
   ]
  },
  {
   "cell_type": "code",
   "execution_count": 23,
   "metadata": {},
   "outputs": [
    {
     "data": {
      "text/html": [
       "<div>\n",
       "<style scoped>\n",
       "    .dataframe tbody tr th:only-of-type {\n",
       "        vertical-align: middle;\n",
       "    }\n",
       "\n",
       "    .dataframe tbody tr th {\n",
       "        vertical-align: top;\n",
       "    }\n",
       "\n",
       "    .dataframe thead th {\n",
       "        text-align: right;\n",
       "    }\n",
       "</style>\n",
       "<table border=\"1\" class=\"dataframe\">\n",
       "  <thead>\n",
       "    <tr style=\"text-align: right;\">\n",
       "      <th></th>\n",
       "      <th>ART_SJ_CN</th>\n",
       "      <th>ART_CN</th>\n",
       "    </tr>\n",
       "  </thead>\n",
       "  <tbody>\n",
       "    <tr>\n",
       "      <th>4</th>\n",
       "      <td>중기부, 전통시장에 화재알림시설 설치</td>\n",
       "      <td>앞으로 5년내 전국 전통시장에 첨단 IT 기반의 화재알림시설이 설치된다. 홍종학 중...</td>\n",
       "    </tr>\n",
       "    <tr>\n",
       "      <th>5</th>\n",
       "      <td>연기 나자마자 감지…'제2의 소래포구 참사' 막는다</td>\n",
       "      <td>앵커멘트 대구 서문시장, 여수 수산시장, 인천 서래포구 지난 겨울 전통시장에서 화재...</td>\n",
       "    </tr>\n",
       "    <tr>\n",
       "      <th>6</th>\n",
       "      <td>[뉴스 8] 장의 사진</td>\n",
       "      <td>뉴스 8이 선정한 장의 사진입니다. 서울 문정동 아파트에서 경비원이 종이 가루를 쓸...</td>\n",
       "    </tr>\n",
       "    <tr>\n",
       "      <th>8</th>\n",
       "      <td>[뉴스8 단신] 작년 수출 5,739억 달러 '사상 최대'</td>\n",
       "      <td>지난해 우리나라의 연간 수출액이 5천739억 달러로, 1년 전보다 16%나 증가하며...</td>\n",
       "    </tr>\n",
       "    <tr>\n",
       "      <th>9</th>\n",
       "      <td>최저임금 시간당 7,530원…병원비 부담 감소</td>\n",
       "      <td>앵커멘트 올해부터 최저임금이 시간당 7천530원으로 오르고, 저소득층의 병원비 부담...</td>\n",
       "    </tr>\n",
       "  </tbody>\n",
       "</table>\n",
       "</div>"
      ],
      "text/plain": [
       "                          ART_SJ_CN  \\\n",
       "4              중기부, 전통시장에 화재알림시설 설치   \n",
       "5      연기 나자마자 감지…'제2의 소래포구 참사' 막는다   \n",
       "6                      [뉴스 8] 장의 사진   \n",
       "8  [뉴스8 단신] 작년 수출 5,739억 달러 '사상 최대'   \n",
       "9         최저임금 시간당 7,530원…병원비 부담 감소   \n",
       "\n",
       "                                              ART_CN  \n",
       "4  앞으로 5년내 전국 전통시장에 첨단 IT 기반의 화재알림시설이 설치된다. 홍종학 중...  \n",
       "5  앵커멘트 대구 서문시장, 여수 수산시장, 인천 서래포구 지난 겨울 전통시장에서 화재...  \n",
       "6  뉴스 8이 선정한 장의 사진입니다. 서울 문정동 아파트에서 경비원이 종이 가루를 쓸...  \n",
       "8  지난해 우리나라의 연간 수출액이 5천739억 달러로, 1년 전보다 16%나 증가하며...  \n",
       "9  앵커멘트 올해부터 최저임금이 시간당 7천530원으로 오르고, 저소득층의 병원비 부담...  "
      ]
     },
     "execution_count": 23,
     "metadata": {},
     "output_type": "execute_result"
    }
   ],
   "source": [
    "data.head()"
   ]
  },
  {
   "cell_type": "code",
   "execution_count": 24,
   "metadata": {},
   "outputs": [
    {
     "data": {
      "text/html": [
       "<div>\n",
       "<style scoped>\n",
       "    .dataframe tbody tr th:only-of-type {\n",
       "        vertical-align: middle;\n",
       "    }\n",
       "\n",
       "    .dataframe tbody tr th {\n",
       "        vertical-align: top;\n",
       "    }\n",
       "\n",
       "    .dataframe thead th {\n",
       "        text-align: right;\n",
       "    }\n",
       "</style>\n",
       "<table border=\"1\" class=\"dataframe\">\n",
       "  <thead>\n",
       "    <tr style=\"text-align: right;\">\n",
       "      <th></th>\n",
       "      <th>ART_SJ_CN</th>\n",
       "      <th>ART_CN</th>\n",
       "      <th>decoder_input</th>\n",
       "      <th>decoder_target</th>\n",
       "    </tr>\n",
       "  </thead>\n",
       "  <tbody>\n",
       "    <tr>\n",
       "      <th>4</th>\n",
       "      <td>중기부, 전통시장에 화재알림시설 설치</td>\n",
       "      <td>앞으로 5년내 전국 전통시장에 첨단 IT 기반의 화재알림시설이 설치된다. 홍종학 중...</td>\n",
       "      <td>sostoken 중기부, 전통시장에 화재알림시설 설치</td>\n",
       "      <td>중기부, 전통시장에 화재알림시설 설치 eostoken</td>\n",
       "    </tr>\n",
       "    <tr>\n",
       "      <th>5</th>\n",
       "      <td>연기 나자마자 감지…'제2의 소래포구 참사' 막는다</td>\n",
       "      <td>앵커멘트 대구 서문시장, 여수 수산시장, 인천 서래포구 지난 겨울 전통시장에서 화재...</td>\n",
       "      <td>sostoken 연기 나자마자 감지…'제2의 소래포구 참사' 막는다</td>\n",
       "      <td>연기 나자마자 감지…'제2의 소래포구 참사' 막는다 eostoken</td>\n",
       "    </tr>\n",
       "    <tr>\n",
       "      <th>6</th>\n",
       "      <td>[뉴스 8] 장의 사진</td>\n",
       "      <td>뉴스 8이 선정한 장의 사진입니다. 서울 문정동 아파트에서 경비원이 종이 가루를 쓸...</td>\n",
       "      <td>sostoken [뉴스 8] 장의 사진</td>\n",
       "      <td>[뉴스 8] 장의 사진 eostoken</td>\n",
       "    </tr>\n",
       "    <tr>\n",
       "      <th>8</th>\n",
       "      <td>[뉴스8 단신] 작년 수출 5,739억 달러 '사상 최대'</td>\n",
       "      <td>지난해 우리나라의 연간 수출액이 5천739억 달러로, 1년 전보다 16%나 증가하며...</td>\n",
       "      <td>sostoken [뉴스8 단신] 작년 수출 5,739억 달러 '사상 최대'</td>\n",
       "      <td>[뉴스8 단신] 작년 수출 5,739억 달러 '사상 최대' eostoken</td>\n",
       "    </tr>\n",
       "    <tr>\n",
       "      <th>9</th>\n",
       "      <td>최저임금 시간당 7,530원…병원비 부담 감소</td>\n",
       "      <td>앵커멘트 올해부터 최저임금이 시간당 7천530원으로 오르고, 저소득층의 병원비 부담...</td>\n",
       "      <td>sostoken 최저임금 시간당 7,530원…병원비 부담 감소</td>\n",
       "      <td>최저임금 시간당 7,530원…병원비 부담 감소 eostoken</td>\n",
       "    </tr>\n",
       "  </tbody>\n",
       "</table>\n",
       "</div>"
      ],
      "text/plain": [
       "                          ART_SJ_CN  \\\n",
       "4              중기부, 전통시장에 화재알림시설 설치   \n",
       "5      연기 나자마자 감지…'제2의 소래포구 참사' 막는다   \n",
       "6                      [뉴스 8] 장의 사진   \n",
       "8  [뉴스8 단신] 작년 수출 5,739억 달러 '사상 최대'   \n",
       "9         최저임금 시간당 7,530원…병원비 부담 감소   \n",
       "\n",
       "                                              ART_CN  \\\n",
       "4  앞으로 5년내 전국 전통시장에 첨단 IT 기반의 화재알림시설이 설치된다. 홍종학 중...   \n",
       "5  앵커멘트 대구 서문시장, 여수 수산시장, 인천 서래포구 지난 겨울 전통시장에서 화재...   \n",
       "6  뉴스 8이 선정한 장의 사진입니다. 서울 문정동 아파트에서 경비원이 종이 가루를 쓸...   \n",
       "8  지난해 우리나라의 연간 수출액이 5천739억 달러로, 1년 전보다 16%나 증가하며...   \n",
       "9  앵커멘트 올해부터 최저임금이 시간당 7천530원으로 오르고, 저소득층의 병원비 부담...   \n",
       "\n",
       "                               decoder_input  \\\n",
       "4              sostoken 중기부, 전통시장에 화재알림시설 설치   \n",
       "5      sostoken 연기 나자마자 감지…'제2의 소래포구 참사' 막는다   \n",
       "6                      sostoken [뉴스 8] 장의 사진   \n",
       "8  sostoken [뉴스8 단신] 작년 수출 5,739억 달러 '사상 최대'   \n",
       "9         sostoken 최저임금 시간당 7,530원…병원비 부담 감소   \n",
       "\n",
       "                              decoder_target  \n",
       "4              중기부, 전통시장에 화재알림시설 설치 eostoken  \n",
       "5      연기 나자마자 감지…'제2의 소래포구 참사' 막는다 eostoken  \n",
       "6                      [뉴스 8] 장의 사진 eostoken  \n",
       "8  [뉴스8 단신] 작년 수출 5,739억 달러 '사상 최대' eostoken  \n",
       "9         최저임금 시간당 7,530원…병원비 부담 감소 eostoken  "
      ]
     },
     "execution_count": 24,
     "metadata": {},
     "output_type": "execute_result"
    }
   ],
   "source": [
    "data['decoder_input'] = data['ART_SJ_CN'].apply(lambda x : 'sostoken ' + x)\n",
    "data['decoder_target'] = data['ART_SJ_CN'].apply(lambda x : x + ' eostoken')\n",
    "data.head()"
   ]
  },
  {
   "cell_type": "code",
   "execution_count": 25,
   "metadata": {},
   "outputs": [],
   "source": [
    "encoder_input = np.array(data['ART_CN'])\n",
    "decoder_input = np.array(data['decoder_input'])\n",
    "decoder_target = np.array(data['decoder_target'])"
   ]
  },
  {
   "cell_type": "code",
   "execution_count": 26,
   "metadata": {},
   "outputs": [
    {
     "name": "stdout",
     "output_type": "stream",
     "text": [
      "[16825  2288 12300 ...   922 12088 11160]\n"
     ]
    }
   ],
   "source": [
    "indices = np.arange(encoder_input.shape[0])\n",
    "np.random.shuffle(indices)\n",
    "print(indices)"
   ]
  },
  {
   "cell_type": "code",
   "execution_count": 27,
   "metadata": {},
   "outputs": [],
   "source": [
    "encoder_input = encoder_input[indices]\n",
    "decoder_input = decoder_input[indices]\n",
    "decoder_target = decoder_target[indices]"
   ]
  },
  {
   "cell_type": "code",
   "execution_count": 28,
   "metadata": {},
   "outputs": [
    {
     "name": "stdout",
     "output_type": "stream",
     "text": [
      "테스트 데이터의 수 : 3453\n"
     ]
    }
   ],
   "source": [
    "n_of_val = int(len(encoder_input)*0.2)\n",
    "print('테스트 데이터의 수 :',n_of_val)"
   ]
  },
  {
   "cell_type": "code",
   "execution_count": 29,
   "metadata": {},
   "outputs": [],
   "source": [
    "encoder_input_train = encoder_input[:-n_of_val]\n",
    "decoder_input_train = decoder_input[:-n_of_val]\n",
    "decoder_target_train = decoder_target[:-n_of_val]\n",
    "\n",
    "encoder_input_test = encoder_input[-n_of_val:]\n",
    "decoder_input_test = decoder_input[-n_of_val:]\n",
    "decoder_target_test = decoder_target[-n_of_val:]"
   ]
  },
  {
   "cell_type": "code",
   "execution_count": 30,
   "metadata": {},
   "outputs": [
    {
     "name": "stdout",
     "output_type": "stream",
     "text": [
      "훈련 데이터의 개수 : 13813\n",
      "훈련 레이블의 개수 : 13813\n",
      "테스트 데이터의 개수 : 3453\n",
      "테스트 레이블의 개수 : 3453\n"
     ]
    }
   ],
   "source": [
    "print('훈련 데이터의 개수 :', len(encoder_input_train))\n",
    "print('훈련 레이블의 개수 :',len(decoder_input_train))\n",
    "print('테스트 데이터의 개수 :',len(encoder_input_test))\n",
    "print('테스트 레이블의 개수 :',len(decoder_input_test))"
   ]
  },
  {
   "cell_type": "code",
   "execution_count": 31,
   "metadata": {},
   "outputs": [],
   "source": [
    "src_tokenizer = Tokenizer()\n",
    "src_tokenizer.fit_on_texts(encoder_input_train)"
   ]
  },
  {
   "cell_type": "code",
   "execution_count": 32,
   "metadata": {},
   "outputs": [
    {
     "name": "stdout",
     "output_type": "stream",
     "text": [
      "단어 집합(vocabulary)의 크기 : 240602\n",
      "등장 빈도가 6번 이하인 희귀 단어의 수: 217340\n",
      "단어 집합에서 희귀 단어를 제외시킬 경우의 단어 집합의 크기 23262\n",
      "단어 집합에서 희귀 단어의 비율: 90.33175119076317\n",
      "전체 등장 빈도에서 희귀 단어 등장 빈도 비율: 28.002168908476317\n"
     ]
    }
   ],
   "source": [
    "threshold = 7\n",
    "total_cnt = len(src_tokenizer.word_index) # 단어의 수\n",
    "rare_cnt = 0 # 등장 빈도수가 threshold보다 작은 단어의 개수를 카운트\n",
    "total_freq = 0 # 훈련 데이터의 전체 단어 빈도수 총 합\n",
    "rare_freq = 0 # 등장 빈도수가 threshold보다 작은 단어의 등장 빈도수의 총 합\n",
    "\n",
    "# 단어와 빈도수의 쌍(pair)을 key와 value로 받는다.\n",
    "for key, value in src_tokenizer.word_counts.items():\n",
    "    total_freq = total_freq + value\n",
    "\n",
    "    # 단어의 등장 빈도수가 threshold보다 작으면\n",
    "    if(value < threshold):\n",
    "        rare_cnt = rare_cnt + 1\n",
    "        rare_freq = rare_freq + value\n",
    "\n",
    "print('단어 집합(vocabulary)의 크기 :',total_cnt)\n",
    "print('등장 빈도가 %s번 이하인 희귀 단어의 수: %s'%(threshold - 1, rare_cnt))\n",
    "print('단어 집합에서 희귀 단어를 제외시킬 경우의 단어 집합의 크기 %s'%(total_cnt - rare_cnt))\n",
    "print(\"단어 집합에서 희귀 단어의 비율:\", (rare_cnt / total_cnt)*100)\n",
    "print(\"전체 등장 빈도에서 희귀 단어 등장 빈도 비율:\", (rare_freq / total_freq)*100)"
   ]
  },
  {
   "cell_type": "code",
   "execution_count": 33,
   "metadata": {},
   "outputs": [],
   "source": [
    "src_vocab = 8000\n",
    "src_tokenizer = Tokenizer(num_words = src_vocab) \n",
    "src_tokenizer.fit_on_texts(encoder_input_train)\n",
    "\n",
    "# 텍스트 시퀀스를 정수 시퀀스로 변환\n",
    "encoder_input_train = src_tokenizer.texts_to_sequences(encoder_input_train) \n",
    "encoder_input_test = src_tokenizer.texts_to_sequences(encoder_input_test)"
   ]
  },
  {
   "cell_type": "code",
   "execution_count": 34,
   "metadata": {},
   "outputs": [
    {
     "name": "stdout",
     "output_type": "stream",
     "text": [
      "[[15, 2352, 1780, 764, 1676, 600, 86, 1018, 1086, 2093, 186, 176, 216, 269, 3258, 72, 414, 229, 2093, 2949, 60, 60, 59, 392, 486, 7771, 1940, 6760, 269, 3098, 60, 1338, 394, 303, 935, 4232, 3878, 14, 131, 764, 439, 1406, 34, 1, 32, 33, 31], [3259, 69, 714, 386, 446, 3259, 688, 2307, 347, 2530, 30, 20, 849, 170, 639, 58, 65, 38, 1561, 15, 251, 520, 46, 61, 1087, 1204, 69, 65, 6186, 1803, 173, 458, 38, 126, 460, 251, 849, 46, 150, 69, 1204, 1294, 208, 849, 70, 1087, 95, 92, 15, 116, 92, 217, 61, 7081, 4365, 2265, 1278, 12, 3505, 7082, 16, 170, 5139, 1204, 116, 535, 6187, 150, 208, 5140, 7772, 13, 7, 6, 4, 3, 2, 8, 9, 5], [702, 2950, 210, 2266, 1250, 568, 452, 387, 2094, 327, 2405, 1392, 3425, 298, 1589, 1536, 25, 3506, 1804]]\n"
     ]
    }
   ],
   "source": [
    "print(encoder_input_train[:3])"
   ]
  },
  {
   "cell_type": "code",
   "execution_count": 35,
   "metadata": {},
   "outputs": [],
   "source": [
    "tar_tokenizer = Tokenizer()\n",
    "tar_tokenizer.fit_on_texts(decoder_input_train)"
   ]
  },
  {
   "cell_type": "code",
   "execution_count": 36,
   "metadata": {},
   "outputs": [
    {
     "name": "stdout",
     "output_type": "stream",
     "text": [
      "단어 집합(vocabulary)의 크기 : 31173\n",
      "등장 빈도가 5번 이하인 희귀 단어의 수: 28996\n",
      "단어 집합에서 희귀 단어를 제외시킬 경우의 단어 집합의 크기 2177\n",
      "단어 집합에서 희귀 단어의 비율: 93.01639239085105\n",
      "전체 등장 빈도에서 희귀 단어 등장 빈도 비율: 42.236524537409494\n"
     ]
    }
   ],
   "source": [
    "threshold = 6\n",
    "total_cnt = len(tar_tokenizer.word_index) # 단어의 수\n",
    "rare_cnt = 0 # 등장 빈도수가 threshold보다 작은 단어의 개수를 카운트\n",
    "total_freq = 0 # 훈련 데이터의 전체 단어 빈도수 총 합\n",
    "rare_freq = 0 # 등장 빈도수가 threshold보다 작은 단어의 등장 빈도수의 총 합\n",
    "\n",
    "# 단어와 빈도수의 쌍(pair)을 key와 value로 받는다.\n",
    "for key, value in tar_tokenizer.word_counts.items():\n",
    "    total_freq = total_freq + value\n",
    "\n",
    "    # 단어의 등장 빈도수가 threshold보다 작으면\n",
    "    if(value < threshold):\n",
    "        rare_cnt = rare_cnt + 1\n",
    "        rare_freq = rare_freq + value\n",
    "\n",
    "print('단어 집합(vocabulary)의 크기 :',total_cnt)\n",
    "print('등장 빈도가 %s번 이하인 희귀 단어의 수: %s'%(threshold - 1, rare_cnt))\n",
    "print('단어 집합에서 희귀 단어를 제외시킬 경우의 단어 집합의 크기 %s'%(total_cnt - rare_cnt))\n",
    "print(\"단어 집합에서 희귀 단어의 비율:\", (rare_cnt / total_cnt)*100)\n",
    "print(\"전체 등장 빈도에서 희귀 단어 등장 빈도 비율:\", (rare_freq / total_freq)*100)"
   ]
  },
  {
   "cell_type": "code",
   "execution_count": 37,
   "metadata": {},
   "outputs": [],
   "source": [
    "tar_vocab = 2000\n",
    "tar_tokenizer = Tokenizer(num_words = tar_vocab) \n",
    "tar_tokenizer.fit_on_texts(decoder_input_train)\n",
    "tar_tokenizer.fit_on_texts(decoder_target_train)"
   ]
  },
  {
   "cell_type": "code",
   "execution_count": 38,
   "metadata": {},
   "outputs": [],
   "source": [
    "# 텍스트 시퀀스를 정수 시퀀스로 변환\n",
    "decoder_input_train = tar_tokenizer.texts_to_sequences(decoder_input_train) \n",
    "decoder_target_train = tar_tokenizer.texts_to_sequences(decoder_target_train)\n",
    "decoder_input_test = tar_tokenizer.texts_to_sequences(decoder_input_test)\n",
    "decoder_target_test = tar_tokenizer.texts_to_sequences(decoder_target_test)"
   ]
  },
  {
   "cell_type": "code",
   "execution_count": 39,
   "metadata": {},
   "outputs": [
    {
     "name": "stdout",
     "output_type": "stream",
     "text": [
      "[[1, 1378, 128, 530, 65, 8], [1, 849, 531, 222], [1, 208, 452], [1, 143, 32, 11], [1, 36, 509, 196]]\n"
     ]
    }
   ],
   "source": [
    "print(decoder_input_train[:5])"
   ]
  },
  {
   "cell_type": "code",
   "execution_count": 40,
   "metadata": {},
   "outputs": [
    {
     "name": "stdout",
     "output_type": "stream",
     "text": [
      "[[1378, 128, 530, 65, 8, 2], [849, 531, 222, 2], [208, 452, 2], [143, 32, 11, 2], [36, 509, 196, 2]]\n"
     ]
    }
   ],
   "source": [
    "print(decoder_target_train[:5])"
   ]
  },
  {
   "cell_type": "code",
   "execution_count": 41,
   "metadata": {},
   "outputs": [],
   "source": [
    "drop_train = [index for index, sentence in enumerate(decoder_input_train) if len(sentence) == 1]\n",
    "drop_test = [index for index, sentence in enumerate(decoder_input_test) if len(sentence) == 1]"
   ]
  },
  {
   "cell_type": "code",
   "execution_count": 42,
   "metadata": {},
   "outputs": [
    {
     "name": "stdout",
     "output_type": "stream",
     "text": [
      "삭제할 훈련 데이터의 개수 : 469\n",
      "삭제할 테스트 데이터의 개수 : 129\n"
     ]
    }
   ],
   "source": [
    "print('삭제할 훈련 데이터의 개수 :',len(drop_train))\n",
    "print('삭제할 테스트 데이터의 개수 :',len(drop_test))"
   ]
  },
  {
   "cell_type": "code",
   "execution_count": 43,
   "metadata": {},
   "outputs": [
    {
     "name": "stdout",
     "output_type": "stream",
     "text": [
      "훈련 데이터의 개수 : 13344\n",
      "훈련 레이블의 개수 : 13344\n",
      "테스트 데이터의 개수 : 3324\n",
      "테스트 레이블의 개수 : 3324\n"
     ]
    }
   ],
   "source": [
    "encoder_input_train = np.delete(encoder_input_train, drop_train, axis=0)\n",
    "decoder_input_train = np.delete(decoder_input_train, drop_train, axis=0)\n",
    "decoder_target_train = np.delete(decoder_target_train, drop_train, axis=0)\n",
    "\n",
    "encoder_input_test = np.delete(encoder_input_test, drop_test, axis=0)\n",
    "decoder_input_test = np.delete(decoder_input_test, drop_test, axis=0)\n",
    "decoder_target_test = np.delete(decoder_target_test, drop_test, axis=0)\n",
    "\n",
    "print('훈련 데이터의 개수 :', len(encoder_input_train))\n",
    "print('훈련 레이블의 개수 :',len(decoder_input_train))\n",
    "print('테스트 데이터의 개수 :',len(encoder_input_test))\n",
    "print('테스트 레이블의 개수 :',len(decoder_input_test))"
   ]
  },
  {
   "cell_type": "code",
   "execution_count": 44,
   "metadata": {},
   "outputs": [],
   "source": [
    "encoder_input_train = pad_sequences(encoder_input_train, maxlen = text_max_len, padding='post')\n",
    "encoder_input_test = pad_sequences(encoder_input_test, maxlen = text_max_len, padding='post')\n",
    "decoder_input_train = pad_sequences(decoder_input_train, maxlen = summary_max_len, padding='post')\n",
    "decoder_target_train = pad_sequences(decoder_target_train, maxlen = summary_max_len, padding='post')\n",
    "decoder_input_test = pad_sequences(decoder_input_test, maxlen = summary_max_len, padding='post')\n",
    "decoder_target_test = pad_sequences(decoder_target_test, maxlen = summary_max_len, padding='post')"
   ]
  },
  {
   "cell_type": "code",
   "execution_count": 45,
   "metadata": {},
   "outputs": [],
   "source": [
    "from tensorflow.keras.layers import Input, LSTM, Embedding, Dense, Concatenate\n",
    "from tensorflow.keras.models import Model\n",
    "from tensorflow.keras.callbacks import EarlyStopping, ModelCheckpoint"
   ]
  },
  {
   "cell_type": "code",
   "execution_count": 46,
   "metadata": {},
   "outputs": [],
   "source": [
    "embedding_dim = 128\n",
    "hidden_size = 256\n",
    "\n",
    "# 인코더\n",
    "encoder_inputs = Input(shape=(text_max_len,))\n",
    "\n",
    "# 인코더의 임베딩 층\n",
    "enc_emb = Embedding(src_vocab, embedding_dim)(encoder_inputs)\n",
    "\n",
    "# 인코더의 LSTM 1\n",
    "encoder_lstm1 = LSTM(hidden_size, return_sequences=True, return_state=True ,dropout = 0.4, recurrent_dropout = 0.4)\n",
    "encoder_output1, state_h1, state_c1 = encoder_lstm1(enc_emb)\n",
    "\n",
    "# 인코더의 LSTM 2\n",
    "encoder_lstm2 = LSTM(hidden_size, return_sequences=True, return_state=True, dropout=0.4, recurrent_dropout=0.4)\n",
    "encoder_output2, state_h2, state_c2 = encoder_lstm2(encoder_output1)\n",
    "\n",
    "# 인코더의 LSTM 3\n",
    "encoder_lstm3 = LSTM(hidden_size, return_state=True, return_sequences=True, dropout=0.4, recurrent_dropout=0.4)\n",
    "encoder_outputs, state_h, state_c= encoder_lstm3(encoder_output2)"
   ]
  },
  {
   "cell_type": "code",
   "execution_count": 47,
   "metadata": {},
   "outputs": [],
   "source": [
    "# 디코더\n",
    "decoder_inputs = Input(shape=(None,))\n",
    "\n",
    "# 디코더의 임베딩 층\n",
    "dec_emb_layer = Embedding(tar_vocab, embedding_dim)\n",
    "dec_emb = dec_emb_layer(decoder_inputs)\n",
    "\n",
    "# 디코더의 LSTM\n",
    "decoder_lstm = LSTM(hidden_size, return_sequences = True, return_state = True, dropout = 0.4, recurrent_dropout=0.2)\n",
    "decoder_outputs, _, _ = decoder_lstm(dec_emb, initial_state = [state_h, state_c])"
   ]
  },
  {
   "cell_type": "code",
   "execution_count": 48,
   "metadata": {},
   "outputs": [
    {
     "name": "stdout",
     "output_type": "stream",
     "text": [
      "Model: \"functional_1\"\n",
      "__________________________________________________________________________________________________\n",
      "Layer (type)                    Output Shape         Param #     Connected to                     \n",
      "==================================================================================================\n",
      "input_1 (InputLayer)            [(None, 150)]        0                                            \n",
      "__________________________________________________________________________________________________\n",
      "embedding (Embedding)           (None, 150, 128)     1024000     input_1[0][0]                    \n",
      "__________________________________________________________________________________________________\n",
      "lstm (LSTM)                     [(None, 150, 256), ( 394240      embedding[0][0]                  \n",
      "__________________________________________________________________________________________________\n",
      "input_2 (InputLayer)            [(None, None)]       0                                            \n",
      "__________________________________________________________________________________________________\n",
      "lstm_1 (LSTM)                   [(None, 150, 256), ( 525312      lstm[0][0]                       \n",
      "__________________________________________________________________________________________________\n",
      "embedding_1 (Embedding)         (None, None, 128)    256000      input_2[0][0]                    \n",
      "__________________________________________________________________________________________________\n",
      "lstm_2 (LSTM)                   [(None, 150, 256), ( 525312      lstm_1[0][0]                     \n",
      "__________________________________________________________________________________________________\n",
      "lstm_3 (LSTM)                   [(None, None, 256),  394240      embedding_1[0][0]                \n",
      "                                                                 lstm_2[0][1]                     \n",
      "                                                                 lstm_2[0][2]                     \n",
      "__________________________________________________________________________________________________\n",
      "dense (Dense)                   (None, None, 2000)   514000      lstm_3[0][0]                     \n",
      "==================================================================================================\n",
      "Total params: 3,633,104\n",
      "Trainable params: 3,633,104\n",
      "Non-trainable params: 0\n",
      "__________________________________________________________________________________________________\n"
     ]
    }
   ],
   "source": [
    "# 디코더의 출력층\n",
    "decoder_softmax_layer = Dense(tar_vocab, activation = 'softmax')\n",
    "decoder_softmax_outputs = decoder_softmax_layer(decoder_outputs) \n",
    "\n",
    "# 모델 정의\n",
    "model = Model([encoder_inputs, decoder_inputs], decoder_softmax_outputs)\n",
    "model.summary()"
   ]
  },
  {
   "cell_type": "code",
   "execution_count": 49,
   "metadata": {},
   "outputs": [],
   "source": [
    "urllib.request.urlretrieve(\"https://raw.githubusercontent.com/thushv89/attention_keras/master/src/layers/attention.py\", filename=\"attention.py\")\n",
    "from attention import AttentionLayer"
   ]
  },
  {
   "cell_type": "code",
   "execution_count": 50,
   "metadata": {},
   "outputs": [
    {
     "name": "stdout",
     "output_type": "stream",
     "text": [
      "Model: \"functional_3\"\n",
      "__________________________________________________________________________________________________\n",
      "Layer (type)                    Output Shape         Param #     Connected to                     \n",
      "==================================================================================================\n",
      "input_1 (InputLayer)            [(None, 150)]        0                                            \n",
      "__________________________________________________________________________________________________\n",
      "embedding (Embedding)           (None, 150, 128)     1024000     input_1[0][0]                    \n",
      "__________________________________________________________________________________________________\n",
      "lstm (LSTM)                     [(None, 150, 256), ( 394240      embedding[0][0]                  \n",
      "__________________________________________________________________________________________________\n",
      "input_2 (InputLayer)            [(None, None)]       0                                            \n",
      "__________________________________________________________________________________________________\n",
      "lstm_1 (LSTM)                   [(None, 150, 256), ( 525312      lstm[0][0]                       \n",
      "__________________________________________________________________________________________________\n",
      "embedding_1 (Embedding)         (None, None, 128)    256000      input_2[0][0]                    \n",
      "__________________________________________________________________________________________________\n",
      "lstm_2 (LSTM)                   [(None, 150, 256), ( 525312      lstm_1[0][0]                     \n",
      "__________________________________________________________________________________________________\n",
      "lstm_3 (LSTM)                   [(None, None, 256),  394240      embedding_1[0][0]                \n",
      "                                                                 lstm_2[0][1]                     \n",
      "                                                                 lstm_2[0][2]                     \n",
      "__________________________________________________________________________________________________\n",
      "attention_layer (AttentionLayer ((None, None, 256),  131328      lstm_2[0][0]                     \n",
      "                                                                 lstm_3[0][0]                     \n",
      "__________________________________________________________________________________________________\n",
      "concat_layer (Concatenate)      (None, None, 512)    0           lstm_3[0][0]                     \n",
      "                                                                 attention_layer[0][0]            \n",
      "__________________________________________________________________________________________________\n",
      "dense_1 (Dense)                 (None, None, 2000)   1026000     concat_layer[0][0]               \n",
      "==================================================================================================\n",
      "Total params: 4,276,432\n",
      "Trainable params: 4,276,432\n",
      "Non-trainable params: 0\n",
      "__________________________________________________________________________________________________\n"
     ]
    }
   ],
   "source": [
    "# 어텐션 층(어텐션 함수)\n",
    "attn_layer = AttentionLayer(name='attention_layer')\n",
    "attn_out, attn_states = attn_layer([encoder_outputs, decoder_outputs])\n",
    "\n",
    "# 어텐션의 결과와 디코더의 hidden state들을 연결\n",
    "decoder_concat_input = Concatenate(axis = -1, name='concat_layer')([decoder_outputs, attn_out])\n",
    "\n",
    "# 디코더의 출력층\n",
    "decoder_softmax_layer = Dense(tar_vocab, activation='softmax')\n",
    "decoder_softmax_outputs = decoder_softmax_layer(decoder_concat_input)\n",
    "\n",
    "# 모델 정의\n",
    "model = Model([encoder_inputs, decoder_inputs], decoder_softmax_outputs)\n",
    "model.summary()"
   ]
  },
  {
   "cell_type": "code",
   "execution_count": 51,
   "metadata": {},
   "outputs": [],
   "source": [
    "model.compile(optimizer='rmsprop', loss='sparse_categorical_crossentropy')"
   ]
  },
  {
   "cell_type": "code",
   "execution_count": null,
   "metadata": {
    "scrolled": true
   },
   "outputs": [
    {
     "name": "stdout",
     "output_type": "stream",
     "text": [
      "Epoch 1/50\n",
      " 1/53 [..............................] - ETA: 0s - loss: 7.6031"
     ]
    }
   ],
   "source": [
    "es = EarlyStopping(monitor='val_loss', mode='min', verbose=1, patience = 2)\n",
    "history = model.fit(x = [encoder_input_train, decoder_input_train], y = decoder_target_train, \n",
    "          validation_data = ([encoder_input_test, decoder_input_test], decoder_target_test),\n",
    "          batch_size = 256, callbacks=[es], epochs = 50)"
   ]
  },
  {
   "cell_type": "code",
   "execution_count": null,
   "metadata": {},
   "outputs": [],
   "source": [
    "plt.plot(history.history['loss'], label='train')\n",
    "plt.plot(history.history['val_loss'], label='test')\n",
    "plt.legend()\n",
    "plt.show()"
   ]
  },
  {
   "cell_type": "code",
   "execution_count": null,
   "metadata": {},
   "outputs": [],
   "source": [
    "src_index_to_word = src_tokenizer.index_word\n",
    "tar_word_to_index = tar_tokenizer.word_index\n",
    "tar_index_to_word = tar_tokenizer.index_word"
   ]
  },
  {
   "cell_type": "code",
   "execution_count": null,
   "metadata": {},
   "outputs": [],
   "source": [
    "encoder_model = Model(inputs=encoder_inputs, outputs=[encoder_outputs, state_h, state_c])"
   ]
  },
  {
   "cell_type": "code",
   "execution_count": null,
   "metadata": {},
   "outputs": [],
   "source": [
    "decoder_state_input_h = Input(shape=(hidden_size,))\n",
    "decoder_state_input_c = Input(shape=(hidden_size,))\n",
    "\n",
    "dec_emb2 = dec_emb_layer(decoder_inputs)\n",
    "\n",
    "decoder_outputs2, state_h2, state_c2 =decoder_lstm(dec_emb2, initial_state=[decoder_state_input_h, decoder_state_input_c])"
   ]
  },
  {
   "cell_type": "code",
   "execution_count": null,
   "metadata": {},
   "outputs": [],
   "source": [
    "decoder_hidden_state_input = Input(shape=(text_max_len, hidden_size))\n",
    "attn_out_inf, attn_states_inf = attn_layer([decoder_hidden_state_input, decoder_outputs2])\n",
    "decoder_inf_concat = Concatenate(axis=-1, name='concat')([decoder_outputs2, attn_out_inf])\n",
    "\n",
    "decoder_outputs2 = decoder_softmax_layer(decoder_inf_concat)\n",
    "\n",
    "decoder_model = Model(\n",
    "    [decoder_inputs] + [decoder_hidden_state_input, decoder_state_input_h, decoder_state_input_c],\n",
    "    [decoder_outputs2] + [state_h2, state_c2])"
   ]
  },
  {
   "cell_type": "code",
   "execution_count": null,
   "metadata": {},
   "outputs": [],
   "source": [
    "def decode_sequence(input_seq):\n",
    "    e_out, e_h, e_c = encoder_model.predict(input_seq)\n",
    "    target_seq = np.zeros((1,1))\n",
    "    target_seq[0, 0] = tar_word_to_index['sostoken']\n",
    "    \n",
    "    stop_condition = False\n",
    "    decoded_sentence = ''\n",
    "    while not stop_condition:\n",
    "        output_tokens, h, c = decoder_model.predict([target_seq] + [e_out, e_h, e_c])\n",
    "        sampled_token_index = np.argmax(output_tokens[0, -1, :])\n",
    "        sampled_token = tar_index_to_word[sampled_token_index]\n",
    "        \n",
    "        if(sampled_token!='eostoken'):\n",
    "            decoded_sentence += ' ' + sampled_token\n",
    "            \n",
    "        if(sampled_token == 'eostoken' or len(decoded_sentence.split()) >= (summary_max_len-1)):\n",
    "            stop_condition = True\n",
    "            \n",
    "        target_seq = np.zeros((1, 1))\n",
    "        target_seq[0, 0] = sampled_token_index\n",
    "        \n",
    "        e_h, e_c = h, c\n",
    "    \n",
    "    return decoded_sentence"
   ]
  },
  {
   "cell_type": "code",
   "execution_count": null,
   "metadata": {},
   "outputs": [],
   "source": [
    "def seq2text(input_seq):\n",
    "    temp=''\n",
    "    for i in input_seq:\n",
    "        if(i!=0):\n",
    "            temp = temp + src_index_to_word[i]+' '\n",
    "    return temp\n",
    "\n",
    "def seq2summary(input_seq):\n",
    "    temp=''\n",
    "    for i in input_seq:\n",
    "        if((i!=0 and i!=tar_word_to_index['sostoken']) and i!=tar_word_to_index['eostoken']):\n",
    "            temp = temp + tar_index_to_word[i] + ' '\n",
    "    return temp"
   ]
  },
  {
   "cell_type": "code",
   "execution_count": null,
   "metadata": {},
   "outputs": [],
   "source": [
    "for i in range(500, 1000):\n",
    "    print(\"원문 : \", seq2text(encoder_input_test[i]))\n",
    "    print(\"실제 요약문 :\", seq2summary(decoder_input_test[i]))\n",
    "    print(\"예측 요약문 :\", decode_sequence(encoder_input_test[i].reshape(1, text_max_len)))\n",
    "    print(\"\\n\")"
   ]
  },
  {
   "cell_type": "code",
   "execution_count": null,
   "metadata": {},
   "outputs": [],
   "source": []
  },
  {
   "cell_type": "code",
   "execution_count": null,
   "metadata": {},
   "outputs": [],
   "source": []
  },
  {
   "cell_type": "code",
   "execution_count": null,
   "metadata": {},
   "outputs": [],
   "source": []
  },
  {
   "cell_type": "code",
   "execution_count": null,
   "metadata": {},
   "outputs": [],
   "source": []
  },
  {
   "cell_type": "code",
   "execution_count": null,
   "metadata": {},
   "outputs": [],
   "source": []
  },
  {
   "cell_type": "code",
   "execution_count": null,
   "metadata": {},
   "outputs": [],
   "source": []
  },
  {
   "cell_type": "code",
   "execution_count": null,
   "metadata": {},
   "outputs": [],
   "source": []
  },
  {
   "cell_type": "code",
   "execution_count": null,
   "metadata": {},
   "outputs": [],
   "source": []
  },
  {
   "cell_type": "code",
   "execution_count": null,
   "metadata": {},
   "outputs": [],
   "source": []
  },
  {
   "cell_type": "code",
   "execution_count": null,
   "metadata": {},
   "outputs": [],
   "source": []
  },
  {
   "cell_type": "code",
   "execution_count": null,
   "metadata": {},
   "outputs": [],
   "source": []
  },
  {
   "cell_type": "code",
   "execution_count": null,
   "metadata": {},
   "outputs": [],
   "source": []
  },
  {
   "cell_type": "code",
   "execution_count": null,
   "metadata": {},
   "outputs": [],
   "source": []
  },
  {
   "cell_type": "code",
   "execution_count": null,
   "metadata": {},
   "outputs": [],
   "source": []
  },
  {
   "cell_type": "code",
   "execution_count": null,
   "metadata": {},
   "outputs": [],
   "source": []
  },
  {
   "cell_type": "code",
   "execution_count": null,
   "metadata": {},
   "outputs": [],
   "source": []
  },
  {
   "cell_type": "code",
   "execution_count": null,
   "metadata": {},
   "outputs": [],
   "source": []
  }
 ],
 "metadata": {
  "kernelspec": {
   "display_name": "Python 3",
   "language": "python",
   "name": "python3"
  },
  "language_info": {
   "codemirror_mode": {
    "name": "ipython",
    "version": 3
   },
   "file_extension": ".py",
   "mimetype": "text/x-python",
   "name": "python",
   "nbconvert_exporter": "python",
   "pygments_lexer": "ipython3",
   "version": "3.7.6"
  }
 },
 "nbformat": 4,
 "nbformat_minor": 4
}
